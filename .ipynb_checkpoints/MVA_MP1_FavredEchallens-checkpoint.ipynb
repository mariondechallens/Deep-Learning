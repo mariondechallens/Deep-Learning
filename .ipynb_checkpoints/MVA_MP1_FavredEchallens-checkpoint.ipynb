{
 "cells": [
  {
   "cell_type": "markdown",
   "metadata": {},
   "source": [
    "# Project: Image Classification and Regression - Marion Favre d'Echallens"
   ]
  },
  {
   "cell_type": "code",
   "execution_count": 1,
   "metadata": {},
   "outputs": [
    {
     "name": "stderr",
     "output_type": "stream",
     "text": [
      "Using TensorFlow backend.\n"
     ]
    }
   ],
   "source": [
    "import matplotlib.pyplot as plt\n",
    "import numpy as np\n",
    "import math\n",
    "import matplotlib.patches as patches\n",
    "from keras.layers import Conv2D, MaxPooling2D, Dropout, Flatten"
   ]
  },
  {
   "cell_type": "code",
   "execution_count": 2,
   "metadata": {},
   "outputs": [],
   "source": [
    "#Keras modules\n",
    "from keras.utils import np_utils\n",
    "from keras import optimizers\n",
    "from keras.models import Sequential \n",
    "from keras.layers import Dense, Activation"
   ]
  },
  {
   "cell_type": "markdown",
   "metadata": {},
   "source": [
    "Useful functions and example"
   ]
  },
  {
   "cell_type": "code",
   "execution_count": 3,
   "metadata": {},
   "outputs": [
    {
     "data": {
      "image/png": "[encoded data removed]",
      "text/plain": [
       "<Figure size 432x288 with 1 Axes>"
      ]
     },
     "metadata": {
      "needs_background": "light"
     },
     "output_type": "display_data"
    }
   ],
   "source": [
    "IMAGE_SIZE = 72\n",
    "\n",
    "def generate_a_drawing(figsize, U, V, noise=0.0):\n",
    "    fig = plt.figure(figsize=(figsize,figsize))\n",
    "    ax = plt.subplot(111)\n",
    "    plt.axis('Off')\n",
    "    ax.set_xlim(0,figsize)\n",
    "    ax.set_ylim(0,figsize)\n",
    "    ax.fill(U, V, \"k\")\n",
    "    fig.canvas.draw()\n",
    "    imdata = np.frombuffer(fig.canvas.tostring_rgb(), dtype=np.uint8)[::3].astype(np.float32)\n",
    "    imdata = imdata + noise * np.random.random(imdata.size)\n",
    "    plt.close(fig)\n",
    "    return imdata\n",
    "\n",
    "def generate_a_rectangle(noise=0.0, free_location=False):\n",
    "    figsize = 1.0    \n",
    "    U = np.zeros(4)\n",
    "    V = np.zeros(4)\n",
    "    if free_location:\n",
    "        corners = np.random.random(4)\n",
    "        top = max(corners[0], corners[1])\n",
    "        bottom = min(corners[0], corners[1])\n",
    "        left = min(corners[2], corners[3])\n",
    "        right = max(corners[2], corners[3])\n",
    "    else:\n",
    "        side = (0.3 + 0.7 * np.random.random()) * figsize\n",
    "        top = figsize/2 + side/2\n",
    "        bottom = figsize/2 - side/2\n",
    "        left = bottom\n",
    "        right = top\n",
    "    U[0] = U[1] = top\n",
    "    U[2] = U[3] = bottom\n",
    "    V[0] = V[3] = left\n",
    "    V[1] = V[2] = right\n",
    "    return generate_a_drawing(figsize, U, V, noise)\n",
    "\n",
    "\n",
    "def generate_a_disk(noise=0.0, free_location=False):\n",
    "    figsize = 1.0\n",
    "    if free_location:\n",
    "        center = np.random.random(2)\n",
    "    else:\n",
    "        center = (figsize/2, figsize/2)\n",
    "    radius = (0.3 + 0.7 * np.random.random()) * figsize/2\n",
    "    N = 50\n",
    "    U = np.zeros(N)\n",
    "    V = np.zeros(N)\n",
    "    i = 0\n",
    "    for t in np.linspace(0, 2*np.pi, N):\n",
    "        U[i] = center[0] + np.cos(t) * radius\n",
    "        V[i] = center[1] + np.sin(t) * radius\n",
    "        i = i + 1\n",
    "    return generate_a_drawing(figsize, U, V, noise)\n",
    "\n",
    "def generate_a_triangle(noise=0.0, free_location=False):\n",
    "    figsize = 1.0\n",
    "    if free_location:\n",
    "        U = np.random.random(3)\n",
    "        V = np.random.random(3)\n",
    "    else:\n",
    "        size = (0.3 + 0.7 * np.random.random())*figsize/2\n",
    "        middle = figsize/2\n",
    "        U = (middle, middle+size, middle-size)\n",
    "        V = (middle+size, middle-size, middle-size)\n",
    "    imdata = generate_a_drawing(figsize, U, V, noise)\n",
    "    return [imdata, [U[0], V[0], U[1], V[1], U[2], V[2]]]\n",
    "\n",
    "\n",
    "im = generate_a_rectangle(10, True)\n",
    "plt.imshow(im.reshape(IMAGE_SIZE,IMAGE_SIZE), cmap='gray')\n",
    "\n",
    "im = generate_a_disk(10)\n",
    "plt.imshow(im.reshape(IMAGE_SIZE,IMAGE_SIZE), cmap='gray')\n",
    "\n",
    "[im, v] = generate_a_triangle(20, False)\n",
    "plt.imshow(im.reshape(IMAGE_SIZE,IMAGE_SIZE), cmap='gray')\n",
    "\n",
    "\n",
    "def generate_dataset_classification(nb_samples, noise=0.0, free_location=False):\n",
    "    # Getting im_size:\n",
    "    im_size = generate_a_rectangle().shape[0]\n",
    "    X = np.zeros([nb_samples,im_size])\n",
    "    Y = np.zeros(nb_samples)\n",
    "    print('Creating data:')\n",
    "    for i in range(nb_samples):\n",
    "        if i % 10 == 0:\n",
    "            print(i)\n",
    "        category = np.random.randint(3)\n",
    "        if category == 0:\n",
    "            X[i] = generate_a_rectangle(noise, free_location)\n",
    "        elif category == 1: \n",
    "            X[i] = generate_a_disk(noise, free_location)\n",
    "        else:\n",
    "            [X[i], V] = generate_a_triangle(noise, free_location)\n",
    "        Y[i] = category\n",
    "    X = (X + noise) / (255 + 2 * noise)\n",
    "    return [X, Y]\n",
    "\n",
    "def generate_test_set_classification():\n",
    "    np.random.seed(42)\n",
    "    [X_test, Y_test] = generate_dataset_classification(300, 20, True)\n",
    "    Y_test = np_utils.to_categorical(Y_test, 3) \n",
    "    return [X_test, Y_test]\n",
    "\n",
    "def generate_dataset_regression(nb_samples, noise=0.0):\n",
    "    # Getting im_size:\n",
    "    im_size = generate_a_triangle()[0].shape[0]\n",
    "    X = np.zeros([nb_samples,im_size])\n",
    "    Y = np.zeros([nb_samples, 6])\n",
    "    print('Creating data:')\n",
    "    for i in range(nb_samples):\n",
    "        if i % 10 == 0:\n",
    "            print(i)\n",
    "        [X[i], Y[i]] = generate_a_triangle(noise, True)\n",
    "    X = (X + noise) / (255 + 2 * noise)\n",
    "    return [X, Y]\n",
    "\n",
    "def visualize_prediction(x, y):\n",
    "    fig, ax = plt.subplots(figsize=(5, 5))\n",
    "    I = x.reshape((IMAGE_SIZE,IMAGE_SIZE))\n",
    "    ax.imshow(I, extent=[-0.15,1.15,-0.15,1.15],cmap='gray')\n",
    "    ax.set_xlim([0,1])\n",
    "    ax.set_ylim([0,1])\n",
    "\n",
    "    xy = y.reshape(3,2)\n",
    "    tri = patches.Polygon(xy, closed=True, fill = False, edgecolor = 'r', linewidth = 5, alpha = 0.5)\n",
    "    ax.add_patch(tri)\n",
    "\n",
    "    plt.show()\n",
    "\n",
    "def generate_test_set_regression():\n",
    "    np.random.seed(42)\n",
    "    [X_test, Y_test] = generate_dataset_regression(300, 20)\n",
    "    return [X_test, Y_test]\n"
   ]
  },
  {
   "cell_type": "markdown",
   "metadata": {},
   "source": [
    "#### 3) SIMPLE CLASSIFICATION: RECTANGLE(0), DISK(1), TRIANGLE(2)"
   ]
  },
  {
   "cell_type": "markdown",
   "metadata": {},
   "source": [
    "##### a) STOCHASTIC GRADIENT OPTIMIZER"
   ]
  },
  {
   "cell_type": "code",
   "execution_count": 8,
   "metadata": {},
   "outputs": [
    {
     "name": "stdout",
     "output_type": "stream",
     "text": [
      "Creating data:\n",
      "0\n",
      "10\n",
      "20\n",
      "30\n",
      "40\n",
      "50\n",
      "60\n",
      "70\n",
      "80\n",
      "90\n",
      "100\n",
      "110\n",
      "120\n",
      "130\n",
      "140\n",
      "150\n",
      "160\n",
      "170\n",
      "180\n",
      "190\n",
      "200\n",
      "210\n",
      "220\n",
      "230\n",
      "240\n",
      "250\n",
      "260\n",
      "270\n",
      "280\n",
      "290\n"
     ]
    }
   ],
   "source": [
    "[X_train, Y_train] = generate_dataset_classification(300, 20) \n",
    "# Convert labels to categorical one-hot encoding\n",
    "Y_train = np_utils.to_categorical(Y_train, num_classes=3)"
   ]
  },
  {
   "cell_type": "code",
   "execution_count": 17,
   "metadata": {},
   "outputs": [
    {
     "name": "stdout",
     "output_type": "stream",
     "text": [
      "Epoch 1/10\n",
      "300/300 [==============================] - 1s 2ms/step - loss: 6.7736 - acc: 0.3733\n",
      "Epoch 2/10\n",
      "300/300 [==============================] - 0s 650us/step - loss: 7.1822 - acc: 0.3367\n",
      "Epoch 3/10\n",
      "300/300 [==============================] - 0s 580us/step - loss: 3.4003 - acc: 0.4300\n",
      "Epoch 4/10\n",
      "300/300 [==============================] - 0s 636us/step - loss: 0.9484 - acc: 0.5467\n",
      "Epoch 5/10\n",
      "300/300 [==============================] - 0s 560us/step - loss: 0.7336 - acc: 0.6567\n",
      "Epoch 6/10\n",
      "300/300 [==============================] - 0s 643us/step - loss: 0.9722 - acc: 0.5400\n",
      "Epoch 7/10\n",
      "300/300 [==============================] - 0s 750us/step - loss: 0.5243 - acc: 0.7033\n",
      "Epoch 8/10\n",
      "300/300 [==============================] - 0s 526us/step - loss: 0.4890 - acc: 0.7033\n",
      "Epoch 9/10\n",
      "300/300 [==============================] - 0s 503us/step - loss: 0.4411 - acc: 0.7867\n",
      "Epoch 10/10\n",
      "300/300 [==============================] - 0s 790us/step - loss: 0.3968 - acc: 0.7867\n"
     ]
    },
    {
     "data": {
      "text/plain": [
       "<keras.callbacks.History at 0x156ae7f0668>"
      ]
     },
     "execution_count": 17,
     "metadata": {},
     "output_type": "execute_result"
    }
   ],
   "source": [
    "#Stochastic Gradient Descent \n",
    "# For a three-class classification problem\n",
    "model = Sequential()\n",
    "model.add(Dense(168, activation='relu', input_shape=(5184,)))\n",
    "model.add(Dense(3, activation='softmax'))\n",
    "sgd = optimizers.SGD(lr=0.01, decay=1e-6, momentum=0.9, nesterov=True)\n",
    "model.compile(loss='categorical_crossentropy', \n",
    "              optimizer=sgd,metrics=['accuracy']) \n",
    "\n",
    "#training the model  \n",
    "model.fit(X_train, Y_train, epochs=10, batch_size=64)"
   ]
  },
  {
   "cell_type": "code",
   "execution_count": 18,
   "metadata": {},
   "outputs": [
    {
     "data": {
      "text/plain": [
       "array([[0., 1., 0.]], dtype=float32)"
      ]
     },
     "execution_count": 18,
     "metadata": {},
     "output_type": "execute_result"
    }
   ],
   "source": [
    "#testing\n",
    "X_test = generate_a_disk() #classe 1\n",
    "X_test = X_test.reshape(1, X_test.shape[0])\n",
    "model.predict(X_test,batch_size=32, verbose=0)"
   ]
  },
  {
   "cell_type": "markdown",
   "metadata": {},
   "source": [
    "##### B) ADAM OPTIMIZER"
   ]
  },
  {
   "cell_type": "code",
   "execution_count": 19,
   "metadata": {},
   "outputs": [
    {
     "name": "stdout",
     "output_type": "stream",
     "text": [
      "Epoch 1/10\n",
      "300/300 [==============================] - 1s 2ms/step - loss: 1.7110 - acc: 0.4633\n",
      "Epoch 2/10\n",
      "300/300 [==============================] - 0s 353us/step - loss: 1.0133 - acc: 0.5233\n",
      "Epoch 3/10\n",
      "300/300 [==============================] - 0s 267us/step - loss: 0.6043 - acc: 0.7300\n",
      "Epoch 4/10\n",
      "300/300 [==============================] - 0s 353us/step - loss: 0.3911 - acc: 0.8867\n",
      "Epoch 5/10\n",
      "300/300 [==============================] - 0s 340us/step - loss: 0.3373 - acc: 0.9267\n",
      "Epoch 6/10\n",
      "300/300 [==============================] - 0s 313us/step - loss: 0.3350 - acc: 0.8467\n",
      "Epoch 7/10\n",
      "300/300 [==============================] - 0s 293us/step - loss: 0.2719 - acc: 0.8967\n",
      "Epoch 8/10\n",
      "300/300 [==============================] - 0s 376us/step - loss: 0.3205 - acc: 0.8200\n",
      "Epoch 9/10\n",
      "300/300 [==============================] - 0s 330us/step - loss: 0.2277 - acc: 0.9333\n",
      "Epoch 10/10\n",
      "300/300 [==============================] - 0s 563us/step - loss: 0.1834 - acc: 0.9433\n"
     ]
    },
    {
     "data": {
      "text/plain": [
       "<keras.callbacks.History at 0x156ae7d3710>"
      ]
     },
     "execution_count": 19,
     "metadata": {},
     "output_type": "execute_result"
    }
   ],
   "source": [
    "# For a three-class classification problem\n",
    "model_A = Sequential()\n",
    "model_A.add(Dense(3, activation='softmax',input_shape = (5184,)))\n",
    "model_A.compile(loss='categorical_crossentropy', \n",
    "              optimizer='adam',metrics=['accuracy']) \n",
    "#training the model\n",
    "model_A.fit(X_train, Y_train, epochs=10, batch_size=32)\n"
   ]
  },
  {
   "cell_type": "code",
   "execution_count": 20,
   "metadata": {},
   "outputs": [
    {
     "data": {
      "text/plain": [
       "array([[0., 1., 0.]], dtype=float32)"
      ]
     },
     "execution_count": 20,
     "metadata": {},
     "output_type": "execute_result"
    }
   ],
   "source": [
    "#testing\n",
    "X_test = generate_a_disk() #classe 1\n",
    "X_test = X_test.reshape(1, X_test.shape[0])\n",
    "model_A.predict(X_test,batch_size=32, verbose=0)"
   ]
  },
  {
   "cell_type": "markdown",
   "metadata": {},
   "source": [
    "Adam optimizer seems to have a better accurracy than the SGD optimizer."
   ]
  },
  {
   "cell_type": "markdown",
   "metadata": {},
   "source": [
    "### 4) VISUALIZATION OF THE SOLUTION"
   ]
  },
  {
   "cell_type": "code",
   "execution_count": 21,
   "metadata": {},
   "outputs": [
    {
     "data": {
      "image/png": "[encoded data removed]",
      "text/plain": [
       "<Figure size 432x288 with 1 Axes>"
      ]
     },
     "metadata": {
      "needs_background": "light"
     },
     "output_type": "display_data"
    },
    {
     "data": {
      "image/png": "[encoded data removed]",
      "text/plain": [
       "<Figure size 432x288 with 1 Axes>"
      ]
     },
     "metadata": {
      "needs_background": "light"
     },
     "output_type": "display_data"
    },
    {
     "data": {
      "image/png": "[encoded data removed]",
      "text/plain": [
       "<Figure size 432x288 with 1 Axes>"
      ]
     },
     "metadata": {
      "needs_background": "light"
     },
     "output_type": "display_data"
    }
   ],
   "source": [
    "# SGD optimizer\n",
    "W = model.layers[0].get_weights()\n",
    "plt.imshow(W[0][:,0].reshape(72,72), cmap='gray')\n",
    "plt.show()\n",
    "plt.imshow(W[0][:,1].reshape(72,72), cmap='gray')\n",
    "plt.show()\n",
    "plt.imshow(W[0][:,2].reshape(72,72), cmap='gray')\n",
    "plt.show()"
   ]
  },
  {
   "cell_type": "code",
   "execution_count": 22,
   "metadata": {},
   "outputs": [
    {
     "data": {
      "image/png": "[encoded data removed]",
      "text/plain": [
       "<Figure size 432x288 with 1 Axes>"
      ]
     },
     "metadata": {
      "needs_background": "light"
     },
     "output_type": "display_data"
    },
    {
     "data": {
      "image/png": "[encoded data removed]",
      "text/plain": [
       "<Figure size 432x288 with 1 Axes>"
      ]
     },
     "metadata": {
      "needs_background": "light"
     },
     "output_type": "display_data"
    },
    {
     "data": {
      "image/png": "[encoded data removed]",
      "text/plain": [
       "<Figure size 432x288 with 1 Axes>"
      ]
     },
     "metadata": {
      "needs_background": "light"
     },
     "output_type": "display_data"
    }
   ],
   "source": [
    "# Adam optimizer\n",
    "W = model_A.layers[0].get_weights()\n",
    "plt.imshow(W[0][:,0].reshape(72,72), cmap='gray')\n",
    "plt.show()\n",
    "plt.imshow(W[0][:,1].reshape(72,72), cmap='gray')\n",
    "plt.show()\n",
    "plt.imshow(W[0][:,2].reshape(72,72), cmap='gray')\n",
    "plt.show()"
   ]
  },
  {
   "cell_type": "markdown",
   "metadata": {},
   "source": [
    "### 5) MORE DIFFICULT CLASSIFICATION PROBLEM"
   ]
  },
  {
   "cell_type": "code",
   "execution_count": 68,
   "metadata": {},
   "outputs": [
    {
     "name": "stdout",
     "output_type": "stream",
     "text": [
      "Creating data:\n",
      "0\n",
      "10\n",
      "20\n",
      "30\n",
      "40\n",
      "50\n",
      "60\n",
      "70\n",
      "80\n",
      "90\n",
      "100\n",
      "110\n",
      "120\n",
      "130\n",
      "140\n",
      "150\n",
      "160\n",
      "170\n",
      "180\n",
      "190\n",
      "200\n",
      "210\n",
      "220\n",
      "230\n",
      "240\n",
      "250\n",
      "260\n",
      "270\n",
      "280\n",
      "290\n"
     ]
    }
   ],
   "source": [
    "[X_train, Y_train] = generate_dataset_classification(300, 20, True)\n",
    "Y_train = np_utils.to_categorical(Y_train, num_classes=3)\n"
   ]
  },
  {
   "cell_type": "code",
   "execution_count": 24,
   "metadata": {},
   "outputs": [
    {
     "name": "stdout",
     "output_type": "stream",
     "text": [
      "Epoch 1/10\n",
      "300/300 [==============================] - 1s 3ms/step - loss: 8.0913 - acc: 0.3300\n",
      "Epoch 2/10\n",
      "300/300 [==============================] - 0s 483us/step - loss: 10.9066 - acc: 0.3233\n",
      "Epoch 3/10\n",
      "300/300 [==============================] - 0s 1ms/step - loss: 10.9066 - acc: 0.3233\n",
      "Epoch 4/10\n",
      "300/300 [==============================] - 0s 1ms/step - loss: 10.9066 - acc: 0.3233\n",
      "Epoch 5/10\n",
      "300/300 [==============================] - 0s 1ms/step - loss: 10.9066 - acc: 0.3233\n",
      "Epoch 6/10\n",
      "300/300 [==============================] - 0s 850us/step - loss: 10.9066 - acc: 0.3233\n",
      "Epoch 7/10\n",
      "300/300 [==============================] - 0s 670us/step - loss: 10.9066 - acc: 0.3233\n",
      "Epoch 8/10\n",
      "300/300 [==============================] - 0s 683us/step - loss: 10.9066 - acc: 0.3233\n",
      "Epoch 9/10\n",
      "300/300 [==============================] - 0s 693us/step - loss: 10.9066 - acc: 0.3233\n",
      "Epoch 10/10\n",
      "300/300 [==============================] - 0s 550us/step - loss: 10.9066 - acc: 0.3233\n"
     ]
    },
    {
     "data": {
      "text/plain": [
       "<keras.callbacks.History at 0x156ae1ee908>"
      ]
     },
     "execution_count": 24,
     "metadata": {},
     "output_type": "execute_result"
    }
   ],
   "source": [
    "#Stochastic Gradient Descent \n",
    "# For a three-class classification problem\n",
    "model = Sequential()\n",
    "model.add(Dense(168, activation='relu', input_shape = (5184,)))\n",
    "model.add(Dense(3, activation='softmax'))\n",
    "sgd = optimizers.SGD(lr=0.01, decay=1e-6, momentum=0.9, nesterov=True)\n",
    "model.compile(loss='categorical_crossentropy', \n",
    "              optimizer=sgd,metrics=['accuracy']) \n",
    "\n",
    "#training the model  \n",
    "model.fit(X_train, Y_train, epochs=10, batch_size=64)"
   ]
  },
  {
   "cell_type": "code",
   "execution_count": 25,
   "metadata": {},
   "outputs": [
    {
     "name": "stdout",
     "output_type": "stream",
     "text": [
      "Creating data:\n",
      "0\n",
      "10\n",
      "20\n",
      "30\n",
      "40\n",
      "50\n",
      "60\n",
      "70\n",
      "80\n",
      "90\n",
      "100\n",
      "110\n",
      "120\n",
      "130\n",
      "140\n",
      "150\n",
      "160\n",
      "170\n",
      "180\n",
      "190\n",
      "200\n",
      "210\n",
      "220\n",
      "230\n",
      "240\n",
      "250\n",
      "260\n",
      "270\n",
      "280\n",
      "290\n",
      "300/300 [==============================] - 0s 609us/step\n"
     ]
    },
    {
     "data": {
      "text/plain": [
       "[10.799123980204264, 0.3299999996026357]"
      ]
     },
     "execution_count": 25,
     "metadata": {},
     "output_type": "execute_result"
    }
   ],
   "source": [
    "[X_test, Y_test] = generate_test_set_classification()\n",
    "\n",
    "model.evaluate(X_test, Y_test) #SGD optimizer"
   ]
  },
  {
   "cell_type": "code",
   "execution_count": 18,
   "metadata": {},
   "outputs": [
    {
     "name": "stdout",
     "output_type": "stream",
     "text": [
      "Epoch 1/10\n",
      "300/300 [==============================] - 1s 2ms/step - loss: 1.9161 - acc: 0.3300\n",
      "Epoch 2/10\n",
      "300/300 [==============================] - 0s 703us/step - loss: 1.2615 - acc: 0.4167\n",
      "Epoch 3/10\n",
      "300/300 [==============================] - 0s 440us/step - loss: 1.1021 - acc: 0.4700\n",
      "Epoch 4/10\n",
      "300/300 [==============================] - 0s 333us/step - loss: 1.0162 - acc: 0.5333\n",
      "Epoch 5/10\n",
      "300/300 [==============================] - 0s 346us/step - loss: 0.9156 - acc: 0.5133\n",
      "Epoch 6/10\n",
      "300/300 [==============================] - 0s 283us/step - loss: 0.8803 - acc: 0.5467\n",
      "Epoch 7/10\n",
      "300/300 [==============================] - 0s 396us/step - loss: 0.8060 - acc: 0.6167\n",
      "Epoch 8/10\n",
      "300/300 [==============================] - 0s 273us/step - loss: 0.7672 - acc: 0.6833\n",
      "Epoch 9/10\n",
      "300/300 [==============================] - 0s 287us/step - loss: 0.8400 - acc: 0.6067\n",
      "Epoch 10/10\n",
      "300/300 [==============================] - 0s 480us/step - loss: 0.7848 - acc: 0.6033\n"
     ]
    },
    {
     "data": {
      "text/plain": [
       "<keras.callbacks.History at 0x1a80a1efa20>"
      ]
     },
     "execution_count": 18,
     "metadata": {},
     "output_type": "execute_result"
    }
   ],
   "source": [
    "# For a three-class classification problem\n",
    "model_A = Sequential()\n",
    "model_A.add(Dense(3, activation='softmax',input_shape = (5184,)))\n",
    "model_A.compile(loss='categorical_crossentropy', \n",
    "              optimizer='adam',metrics=['accuracy']) \n",
    "#training the model\n",
    "model_A.fit(X_train, Y_train, epochs=10, batch_size=32)"
   ]
  },
  {
   "cell_type": "code",
   "execution_count": 26,
   "metadata": {},
   "outputs": [
    {
     "name": "stdout",
     "output_type": "stream",
     "text": [
      "300/300 [==============================] - 0s 1ms/step\n"
     ]
    },
    {
     "data": {
      "text/plain": [
       "[2.3120510005950927, 0.35666666587193807]"
      ]
     },
     "execution_count": 26,
     "metadata": {},
     "output_type": "execute_result"
    }
   ],
   "source": [
    "model_A.evaluate(X_test, Y_test) #Adam optimizer"
   ]
  },
  {
   "cell_type": "markdown",
   "metadata": {},
   "source": [
    "Previous models are less efficient with the new training set, Adam optimizer remains better than SGD optimizer."
   ]
  },
  {
   "cell_type": "code",
   "execution_count": 64,
   "metadata": {},
   "outputs": [
    {
     "name": "stdout",
     "output_type": "stream",
     "text": [
      "(300, 72, 72, 1)\n",
      "(300, 3, 3)\n"
     ]
    }
   ],
   "source": [
    "#creating a new model  \n",
    "X_trainr=X_train.reshape(X_train.shape[0],72,72,1)\n",
    "print(X_trainr.shape)\n",
    "Y_trainr=np_utils.to_categorical(Y_train,3)\n",
    "print(Y_trainr.shape)"
   ]
  },
  {
   "cell_type": "code",
   "execution_count": 65,
   "metadata": {},
   "outputs": [
    {
     "name": "stdout",
     "output_type": "stream",
     "text": [
      "(None, 68, 68, 16)\n",
      "(None, 34, 34, 16)\n",
      "(None, 18496)\n",
      "(None, 3)\n"
     ]
    },
    {
     "ename": "ValueError",
     "evalue": "Error when checking target: expected dense_21 to have 2 dimensions, but got array with shape (300, 3, 3)",
     "output_type": "error",
     "traceback": [
      "\u001b[1;31m---------------------------------------------------------------------------\u001b[0m",
      "\u001b[1;31mValueError\u001b[0m                                Traceback (most recent call last)",
      "\u001b[1;32m<ipython-input-65-f153cd4a9166>\u001b[0m in \u001b[0;36m<module>\u001b[1;34m()\u001b[0m\n\u001b[0;32m     14\u001b[0m \u001b[1;33m\u001b[0m\u001b[0m\n\u001b[0;32m     15\u001b[0m \u001b[0mmodel2\u001b[0m\u001b[1;33m.\u001b[0m\u001b[0mcompile\u001b[0m\u001b[1;33m(\u001b[0m\u001b[0mloss\u001b[0m\u001b[1;33m=\u001b[0m\u001b[1;34m'categorical_crossentropy'\u001b[0m\u001b[1;33m,\u001b[0m \u001b[0moptimizer\u001b[0m\u001b[1;33m=\u001b[0m\u001b[0msgd\u001b[0m\u001b[1;33m,\u001b[0m\u001b[0mmetrics\u001b[0m\u001b[1;33m=\u001b[0m\u001b[1;33m[\u001b[0m\u001b[1;34m'accuracy'\u001b[0m\u001b[1;33m]\u001b[0m\u001b[1;33m)\u001b[0m\u001b[1;33m\u001b[0m\u001b[0m\n\u001b[1;32m---> 16\u001b[1;33m \u001b[0mmodel2\u001b[0m\u001b[1;33m.\u001b[0m\u001b[0mfit\u001b[0m\u001b[1;33m(\u001b[0m\u001b[0mX_trainr\u001b[0m\u001b[1;33m,\u001b[0m \u001b[0mY_trainr\u001b[0m\u001b[1;33m,\u001b[0m \u001b[0mepochs\u001b[0m\u001b[1;33m=\u001b[0m\u001b[1;36m20\u001b[0m\u001b[1;33m,\u001b[0m \u001b[0mbatch_size\u001b[0m\u001b[1;33m=\u001b[0m\u001b[1;36m32\u001b[0m\u001b[1;33m)\u001b[0m\u001b[1;33m\u001b[0m\u001b[0m\n\u001b[0m",
      "\u001b[1;32m~\\Anaconda3\\envs\\py35\\lib\\site-packages\\keras\\engine\\training.py\u001b[0m in \u001b[0;36mfit\u001b[1;34m(self, x, y, batch_size, epochs, verbose, callbacks, validation_split, validation_data, shuffle, class_weight, sample_weight, initial_epoch, steps_per_epoch, validation_steps, **kwargs)\u001b[0m\n\u001b[0;32m    948\u001b[0m             \u001b[0msample_weight\u001b[0m\u001b[1;33m=\u001b[0m\u001b[0msample_weight\u001b[0m\u001b[1;33m,\u001b[0m\u001b[1;33m\u001b[0m\u001b[0m\n\u001b[0;32m    949\u001b[0m             \u001b[0mclass_weight\u001b[0m\u001b[1;33m=\u001b[0m\u001b[0mclass_weight\u001b[0m\u001b[1;33m,\u001b[0m\u001b[1;33m\u001b[0m\u001b[0m\n\u001b[1;32m--> 950\u001b[1;33m             batch_size=batch_size)\n\u001b[0m\u001b[0;32m    951\u001b[0m         \u001b[1;31m# Prepare validation data.\u001b[0m\u001b[1;33m\u001b[0m\u001b[1;33m\u001b[0m\u001b[0m\n\u001b[0;32m    952\u001b[0m         \u001b[0mdo_validation\u001b[0m \u001b[1;33m=\u001b[0m \u001b[1;32mFalse\u001b[0m\u001b[1;33m\u001b[0m\u001b[0m\n",
      "\u001b[1;32m~\\Anaconda3\\envs\\py35\\lib\\site-packages\\keras\\engine\\training.py\u001b[0m in \u001b[0;36m_standardize_user_data\u001b[1;34m(self, x, y, sample_weight, class_weight, check_array_lengths, batch_size)\u001b[0m\n\u001b[0;32m    785\u001b[0m                 \u001b[0mfeed_output_shapes\u001b[0m\u001b[1;33m,\u001b[0m\u001b[1;33m\u001b[0m\u001b[0m\n\u001b[0;32m    786\u001b[0m                 \u001b[0mcheck_batch_axis\u001b[0m\u001b[1;33m=\u001b[0m\u001b[1;32mFalse\u001b[0m\u001b[1;33m,\u001b[0m  \u001b[1;31m# Don't enforce the batch size.\u001b[0m\u001b[1;33m\u001b[0m\u001b[0m\n\u001b[1;32m--> 787\u001b[1;33m                 exception_prefix='target')\n\u001b[0m\u001b[0;32m    788\u001b[0m \u001b[1;33m\u001b[0m\u001b[0m\n\u001b[0;32m    789\u001b[0m             \u001b[1;31m# Generate sample-wise weight values given the `sample_weight` and\u001b[0m\u001b[1;33m\u001b[0m\u001b[1;33m\u001b[0m\u001b[0m\n",
      "\u001b[1;32m~\\Anaconda3\\envs\\py35\\lib\\site-packages\\keras\\engine\\training_utils.py\u001b[0m in \u001b[0;36mstandardize_input_data\u001b[1;34m(data, names, shapes, check_batch_axis, exception_prefix)\u001b[0m\n\u001b[0;32m    125\u001b[0m                         \u001b[1;34m': expected '\u001b[0m \u001b[1;33m+\u001b[0m \u001b[0mnames\u001b[0m\u001b[1;33m[\u001b[0m\u001b[0mi\u001b[0m\u001b[1;33m]\u001b[0m \u001b[1;33m+\u001b[0m \u001b[1;34m' to have '\u001b[0m \u001b[1;33m+\u001b[0m\u001b[1;33m\u001b[0m\u001b[0m\n\u001b[0;32m    126\u001b[0m                         \u001b[0mstr\u001b[0m\u001b[1;33m(\u001b[0m\u001b[0mlen\u001b[0m\u001b[1;33m(\u001b[0m\u001b[0mshape\u001b[0m\u001b[1;33m)\u001b[0m\u001b[1;33m)\u001b[0m \u001b[1;33m+\u001b[0m \u001b[1;34m' dimensions, but got array '\u001b[0m\u001b[1;33m\u001b[0m\u001b[0m\n\u001b[1;32m--> 127\u001b[1;33m                         'with shape ' + str(data_shape))\n\u001b[0m\u001b[0;32m    128\u001b[0m                 \u001b[1;32mif\u001b[0m \u001b[1;32mnot\u001b[0m \u001b[0mcheck_batch_axis\u001b[0m\u001b[1;33m:\u001b[0m\u001b[1;33m\u001b[0m\u001b[0m\n\u001b[0;32m    129\u001b[0m                     \u001b[0mdata_shape\u001b[0m \u001b[1;33m=\u001b[0m \u001b[0mdata_shape\u001b[0m\u001b[1;33m[\u001b[0m\u001b[1;36m1\u001b[0m\u001b[1;33m:\u001b[0m\u001b[1;33m]\u001b[0m\u001b[1;33m\u001b[0m\u001b[0m\n",
      "\u001b[1;31mValueError\u001b[0m: Error when checking target: expected dense_21 to have 2 dimensions, but got array with shape (300, 3, 3)"
     ]
    }
   ],
   "source": [
    "##Convolution2D\n",
    "model2 = Sequential() \n",
    "model2.add(Conv2D(16, (5,5), activation='relu',input_shape=(72,72,1)))\n",
    "model2.add(Dropout(0.5))\n",
    "print(model2.output_shape)\n",
    "\n",
    "model2.add(MaxPooling2D(pool_size =(2,2)))\n",
    "print(model2.output_shape)\n",
    "model2.add(Flatten())\n",
    "print(model2.output_shape)\n",
    "model2.add(Dense(3,activation='softmax'))\n",
    "print(model2.output_shape)\n",
    "\n",
    "\n",
    "model2.compile(loss='categorical_crossentropy', optimizer=sgd,metrics=['accuracy'])\n",
    "model2.fit(X_trainr, Y_trainr, epochs=20, batch_size=32)"
   ]
  },
  {
   "cell_type": "code",
   "execution_count": 26,
   "metadata": {
    "scrolled": true
   },
   "outputs": [
    {
     "ename": "NameError",
     "evalue": "name 'model2' is not defined",
     "output_type": "error",
     "traceback": [
      "\u001b[1;31m---------------------------------------------------------------------------\u001b[0m",
      "\u001b[1;31mNameError\u001b[0m                                 Traceback (most recent call last)",
      "\u001b[1;32m<ipython-input-26-90d425f2033e>\u001b[0m in \u001b[0;36m<module>\u001b[1;34m()\u001b[0m\n\u001b[1;32m----> 1\u001b[1;33m \u001b[0mmodel2\u001b[0m\u001b[1;33m.\u001b[0m\u001b[0mevaluate\u001b[0m\u001b[1;33m(\u001b[0m\u001b[0mX_test\u001b[0m\u001b[1;33m,\u001b[0m \u001b[0mY_test\u001b[0m\u001b[1;33m)\u001b[0m\u001b[1;33m\u001b[0m\u001b[0m\n\u001b[0m",
      "\u001b[1;31mNameError\u001b[0m: name 'model2' is not defined"
     ]
    }
   ],
   "source": [
    "model2.evaluate(X_test, Y_test)"
   ]
  },
  {
   "cell_type": "markdown",
   "metadata": {},
   "source": [
    "The value of the lost function when using the deep network is: "
   ]
  },
  {
   "cell_type": "markdown",
   "metadata": {},
   "source": [
    "### 6) A REGRESSION PROBLEM"
   ]
  },
  {
   "cell_type": "code",
   "execution_count": 4,
   "metadata": {},
   "outputs": [],
   "source": [
    "#normalize vertices\n",
    "def normer(Y):\n",
    "    for i in range(len(Y)):\n",
    "        a = math.sqrt(Y[i,0]**2 + Y[i,1]**2)\n",
    "        b = math.sqrt(Y[i,2]**2 + Y[i,3]**2)\n",
    "        c = math.sqrt(Y[i,4]**2 + Y[i,5]**2)\n",
    "        Y[i,:]=[Y[i,0]/a,Y[i,1]/a,Y[i,2]/b,Y[i,3]/b,Y[i,4]/c,Y[i,5]/c]\n",
    "    return Y\n"
   ]
  },
  {
   "cell_type": "code",
   "execution_count": 5,
   "metadata": {},
   "outputs": [
    {
     "name": "stdout",
     "output_type": "stream",
     "text": [
      "Creating data:\n",
      "0\n",
      "10\n",
      "20\n",
      "30\n",
      "40\n",
      "50\n",
      "60\n",
      "70\n",
      "80\n",
      "90\n",
      "100\n",
      "110\n",
      "120\n",
      "130\n",
      "140\n",
      "150\n",
      "160\n",
      "170\n",
      "180\n",
      "190\n",
      "200\n",
      "210\n",
      "220\n",
      "230\n",
      "240\n",
      "250\n",
      "260\n",
      "270\n",
      "280\n",
      "290\n"
     ]
    },
    {
     "data": {
      "image/png": "[encoded data removed]",
      "text/plain": [
       "<Figure size 360x360 with 1 Axes>"
      ]
     },
     "metadata": {
      "needs_background": "light"
     },
     "output_type": "display_data"
    }
   ],
   "source": [
    "[X_train, Y_train] = generate_dataset_regression(300, 20)\n",
    "visualize_prediction(X_train[0], Y_train[0])"
   ]
  },
  {
   "cell_type": "code",
   "execution_count": 16,
   "metadata": {},
   "outputs": [
    {
     "name": "stdout",
     "output_type": "stream",
     "text": [
      "Epoch 1/20\n",
      "300/300 [==============================] - 1s 3ms/step - loss: 1.6365 - acc: 0.2033\n",
      "Epoch 2/20\n",
      "300/300 [==============================] - 0s 356us/step - loss: 0.3854 - acc: 0.1733\n",
      "Epoch 3/20\n",
      "300/300 [==============================] - 0s 343us/step - loss: 0.3307 - acc: 0.1667\n",
      "Epoch 4/20\n",
      "300/300 [==============================] - 0s 283us/step - loss: 0.3101 - acc: 0.1667\n",
      "Epoch 5/20\n",
      "300/300 [==============================] - 0s 303us/step - loss: 0.2933 - acc: 0.1667\n",
      "Epoch 6/20\n",
      "300/300 [==============================] - 0s 310us/step - loss: 0.2846 - acc: 0.1667\n",
      "Epoch 7/20\n",
      "300/300 [==============================] - 0s 336us/step - loss: 0.2764 - acc: 0.1667\n",
      "Epoch 8/20\n",
      "300/300 [==============================] - 0s 416us/step - loss: 0.2725 - acc: 0.1667\n",
      "Epoch 9/20\n",
      "300/300 [==============================] - 0s 316us/step - loss: 0.2667 - acc: 0.1667\n",
      "Epoch 10/20\n",
      "300/300 [==============================] - 0s 346us/step - loss: 0.2559 - acc: 0.1667\n",
      "Epoch 11/20\n",
      "300/300 [==============================] - 0s 526us/step - loss: 0.2479 - acc: 0.1667\n",
      "Epoch 12/20\n",
      "300/300 [==============================] - 0s 506us/step - loss: 0.2412 - acc: 0.1667\n",
      "Epoch 13/20\n",
      "300/300 [==============================] - 0s 456us/step - loss: 0.2376 - acc: 0.1667\n",
      "Epoch 14/20\n",
      "300/300 [==============================] - 0s 426us/step - loss: 0.2326 - acc: 0.1667\n",
      "Epoch 15/20\n",
      "300/300 [==============================] - 0s 340us/step - loss: 0.2247 - acc: 0.1667\n",
      "Epoch 16/20\n",
      "300/300 [==============================] - 0s 310us/step - loss: 0.2187 - acc: 0.1667\n",
      "Epoch 17/20\n",
      "300/300 [==============================] - 0s 416us/step - loss: 0.2144 - acc: 0.1667\n",
      "Epoch 18/20\n",
      "300/300 [==============================] - 0s 676us/step - loss: 0.2090 - acc: 0.1667\n",
      "Epoch 19/20\n",
      "300/300 [==============================] - 0s 490us/step - loss: 0.2033 - acc: 0.1667\n",
      "Epoch 20/20\n",
      "300/300 [==============================] - 0s 556us/step - loss: 0.1992 - acc: 0.1667\n"
     ]
    },
    {
     "data": {
      "text/plain": [
       "<keras.callbacks.History at 0x1c5ee9a7c88>"
      ]
     },
     "execution_count": 16,
     "metadata": {},
     "output_type": "execute_result"
    }
   ],
   "source": [
    "Y_train = normer(Y_train)\n",
    "\n",
    "model_r = Sequential()\n",
    "model_r.add(Dense(32, activation='relu', input_shape=(5184,)))\n",
    "model_r.add(Dense(8, activation='relu'))\n",
    "model_r.add(Dense(6, activation='linear'))\n",
    "model_r.compile(optimizer='adam',\n",
    "              loss='mse',metrics=['accuracy']) \n",
    "    #training the model  \n",
    "\n",
    "\n",
    "model_r.fit(X_train, Y_train, epochs=20, batch_size=64)\n"
   ]
  },
  {
   "cell_type": "code",
   "execution_count": 75,
   "metadata": {},
   "outputs": [
    {
     "name": "stdout",
     "output_type": "stream",
     "text": [
      "Creating data:\n",
      "0\n",
      "10\n",
      "20\n",
      "30\n",
      "40\n",
      "50\n",
      "60\n",
      "70\n",
      "80\n",
      "90\n",
      "100\n",
      "110\n",
      "120\n",
      "130\n",
      "140\n",
      "150\n",
      "160\n",
      "170\n",
      "180\n",
      "190\n",
      "200\n",
      "210\n",
      "220\n",
      "230\n",
      "240\n",
      "250\n",
      "260\n",
      "270\n",
      "280\n",
      "290\n"
     ]
    }
   ],
   "source": [
    "[X_test, Y_test] = generate_test_set_regression()"
   ]
  },
  {
   "cell_type": "code",
   "execution_count": 17,
   "metadata": {},
   "outputs": [
    {
     "ename": "NameError",
     "evalue": "name 'Y_test' is not defined",
     "output_type": "error",
     "traceback": [
      "\u001b[1;31m---------------------------------------------------------------------------\u001b[0m",
      "\u001b[1;31mNameError\u001b[0m                                 Traceback (most recent call last)",
      "\u001b[1;32m<ipython-input-17-22d8a0f0a81c>\u001b[0m in \u001b[0;36m<module>\u001b[1;34m()\u001b[0m\n\u001b[1;32m----> 1\u001b[1;33m \u001b[0mY_test\u001b[0m \u001b[1;33m=\u001b[0m \u001b[0mnormer\u001b[0m\u001b[1;33m(\u001b[0m\u001b[0mY_test\u001b[0m\u001b[1;33m)\u001b[0m\u001b[1;33m\u001b[0m\u001b[0m\n\u001b[0m\u001b[0;32m      2\u001b[0m \u001b[0mmodel_r\u001b[0m\u001b[1;33m.\u001b[0m\u001b[0mevaluate\u001b[0m\u001b[1;33m(\u001b[0m\u001b[0mX_test\u001b[0m\u001b[1;33m,\u001b[0m \u001b[0mY_test\u001b[0m\u001b[1;33m)\u001b[0m\u001b[1;33m\u001b[0m\u001b[0m\n",
      "\u001b[1;31mNameError\u001b[0m: name 'Y_test' is not defined"
     ]
    }
   ],
   "source": [
    "Y_test = normer(Y_test)\n",
    "model_r.evaluate(X_test, Y_test)"
   ]
  },
  {
   "cell_type": "markdown",
   "metadata": {},
   "source": [
    "### 7) IMAGE DENOISING"
   ]
  },
  {
   "cell_type": "code",
   "execution_count": null,
   "metadata": {},
   "outputs": [],
   "source": []
  }
 ],
 "metadata": {
  "kernelspec": {
   "display_name": "Python (3.5)",
   "language": "python",
   "name": "py35"
  },
  "language_info": {
   "codemirror_mode": {
    "name": "ipython",
    "version": 3
   },
   "file_extension": ".py",
   "mimetype": "text/x-python",
   "name": "python",
   "nbconvert_exporter": "python",
   "pygments_lexer": "ipython3",
   "version": "3.5.6"
  }
 },
 "nbformat": 4,
 "nbformat_minor": 2
}
