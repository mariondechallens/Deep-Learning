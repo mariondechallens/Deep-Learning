{
 "cells": [
  {
   "cell_type": "markdown",
   "metadata": {},
   "source": [
    "# Project: Image Classification and Regression - Marion Favre d'Echallens"
   ]
  },
  {
   "cell_type": "code",
   "execution_count": 3,
   "metadata": {},
   "outputs": [],
   "source": [
    "import matplotlib.pyplot as plt\n",
    "import numpy as np\n",
    "import math\n",
    "import matplotlib.patches as patches\n",
    "from keras.layers import Conv2D, MaxPooling2D, Dropout, Flatten"
   ]
  },
  {
   "cell_type": "code",
   "execution_count": 60,
   "metadata": {},
   "outputs": [],
   "source": [
    "#Keras modules\n",
    "from keras.utils import np_utils\n",
    "from keras import optimizers\n",
    "from keras.models import Sequential \n",
    "from keras.layers import Dense, Activation\n",
    "from keras.optimizers import SGD, Adam"
   ]
  },
  {
   "cell_type": "markdown",
   "metadata": {},
   "source": [
    "Useful functions and example"
   ]
  },
  {
   "cell_type": "code",
   "execution_count": 5,
   "metadata": {},
   "outputs": [
    {
     "data": {
      "image/png": "[encoded data removed]",
      "text/plain": [
       "<Figure size 432x288 with 1 Axes>"
      ]
     },
     "metadata": {
      "needs_background": "light"
     },
     "output_type": "display_data"
    }
   ],
   "source": [
    "IMAGE_SIZE = 72\n",
    "\n",
    "def generate_a_drawing(figsize, U, V, noise=0.0):\n",
    "    fig = plt.figure(figsize=(figsize,figsize))\n",
    "    ax = plt.subplot(111)\n",
    "    plt.axis('Off')\n",
    "    ax.set_xlim(0,figsize)\n",
    "    ax.set_ylim(0,figsize)\n",
    "    ax.fill(U, V, \"k\")\n",
    "    fig.canvas.draw()\n",
    "    imdata = np.frombuffer(fig.canvas.tostring_rgb(), dtype=np.uint8)[::3].astype(np.float32)\n",
    "    imdata = imdata + noise * np.random.random(imdata.size)\n",
    "    plt.close(fig)\n",
    "    return imdata\n",
    "\n",
    "def generate_a_rectangle(noise=0.0, free_location=False):\n",
    "    figsize = 1.0    \n",
    "    U = np.zeros(4)\n",
    "    V = np.zeros(4)\n",
    "    if free_location:\n",
    "        corners = np.random.random(4)\n",
    "        top = max(corners[0], corners[1])\n",
    "        bottom = min(corners[0], corners[1])\n",
    "        left = min(corners[2], corners[3])\n",
    "        right = max(corners[2], corners[3])\n",
    "    else:\n",
    "        side = (0.3 + 0.7 * np.random.random()) * figsize\n",
    "        top = figsize/2 + side/2\n",
    "        bottom = figsize/2 - side/2\n",
    "        left = bottom\n",
    "        right = top\n",
    "    U[0] = U[1] = top\n",
    "    U[2] = U[3] = bottom\n",
    "    V[0] = V[3] = left\n",
    "    V[1] = V[2] = right\n",
    "    return generate_a_drawing(figsize, U, V, noise)\n",
    "\n",
    "\n",
    "def generate_a_disk(noise=0.0, free_location=False):\n",
    "    figsize = 1.0\n",
    "    if free_location:\n",
    "        center = np.random.random(2)\n",
    "    else:\n",
    "        center = (figsize/2, figsize/2)\n",
    "    radius = (0.3 + 0.7 * np.random.random()) * figsize/2\n",
    "    N = 50\n",
    "    U = np.zeros(N)\n",
    "    V = np.zeros(N)\n",
    "    i = 0\n",
    "    for t in np.linspace(0, 2*np.pi, N):\n",
    "        U[i] = center[0] + np.cos(t) * radius\n",
    "        V[i] = center[1] + np.sin(t) * radius\n",
    "        i = i + 1\n",
    "    return generate_a_drawing(figsize, U, V, noise)\n",
    "\n",
    "def generate_a_triangle(noise=0.0, free_location=False):\n",
    "    figsize = 1.0\n",
    "    if free_location:\n",
    "        U = np.random.random(3)\n",
    "        V = np.random.random(3)\n",
    "    else:\n",
    "        size = (0.3 + 0.7 * np.random.random())*figsize/2\n",
    "        middle = figsize/2\n",
    "        U = (middle, middle+size, middle-size)\n",
    "        V = (middle+size, middle-size, middle-size)\n",
    "    imdata = generate_a_drawing(figsize, U, V, noise)\n",
    "    return [imdata, [U[0], V[0], U[1], V[1], U[2], V[2]]]\n",
    "\n",
    "\n",
    "im = generate_a_rectangle(10, True)\n",
    "plt.imshow(im.reshape(IMAGE_SIZE,IMAGE_SIZE), cmap='gray')\n",
    "\n",
    "im = generate_a_disk(10)\n",
    "plt.imshow(im.reshape(IMAGE_SIZE,IMAGE_SIZE), cmap='gray')\n",
    "\n",
    "[im, v] = generate_a_triangle(20, False)\n",
    "plt.imshow(im.reshape(IMAGE_SIZE,IMAGE_SIZE), cmap='gray')\n",
    "\n",
    "\n",
    "def generate_dataset_classification(nb_samples, noise=0.0, free_location=False):\n",
    "    # Getting im_size:\n",
    "    im_size = generate_a_rectangle().shape[0]\n",
    "    X = np.zeros([nb_samples,im_size])\n",
    "    Y = np.zeros(nb_samples)\n",
    "    print('Creating data:')\n",
    "    for i in range(nb_samples):\n",
    "        if i % 10 == 0:\n",
    "            print(i)\n",
    "        category = np.random.randint(3)\n",
    "        if category == 0:\n",
    "            X[i] = generate_a_rectangle(noise, free_location)\n",
    "        elif category == 1: \n",
    "            X[i] = generate_a_disk(noise, free_location)\n",
    "        else:\n",
    "            [X[i], V] = generate_a_triangle(noise, free_location)\n",
    "        Y[i] = category\n",
    "    X = (X + noise) / (255 + 2 * noise)\n",
    "    return [X, Y]\n",
    "\n",
    "def generate_test_set_classification():\n",
    "    np.random.seed(42)\n",
    "    [X_test, Y_test] = generate_dataset_classification(300, 20, True)\n",
    "    Y_test = np_utils.to_categorical(Y_test, 3) \n",
    "    return [X_test, Y_test]\n",
    "\n",
    "def generate_dataset_regression(nb_samples, noise=0.0):\n",
    "    # Getting im_size:\n",
    "    im_size = generate_a_triangle()[0].shape[0]\n",
    "    X = np.zeros([nb_samples,im_size])\n",
    "    Y = np.zeros([nb_samples, 6])\n",
    "    print('Creating data:')\n",
    "    for i in range(nb_samples):\n",
    "        if i % 10 == 0:\n",
    "            print(i)\n",
    "        [X[i], Y[i]] = generate_a_triangle(noise, True)\n",
    "    X = (X + noise) / (255 + 2 * noise)\n",
    "    return [X, Y]\n",
    "\n",
    "def visualize_prediction(x, y):\n",
    "    fig, ax = plt.subplots(figsize=(5, 5))\n",
    "    I = x.reshape((IMAGE_SIZE,IMAGE_SIZE))\n",
    "    ax.imshow(I, extent=[-0.15,1.15,-0.15,1.15],cmap='gray')\n",
    "    ax.set_xlim([0,1])\n",
    "    ax.set_ylim([0,1])\n",
    "\n",
    "    xy = y.reshape(3,2)\n",
    "    tri = patches.Polygon(xy, closed=True, fill = False, edgecolor = 'r', linewidth = 5, alpha = 0.5)\n",
    "    ax.add_patch(tri)\n",
    "\n",
    "    plt.show()\n",
    "\n",
    "def generate_test_set_regression():\n",
    "    np.random.seed(42)\n",
    "    [X_test, Y_test] = generate_dataset_regression(300, 20)\n",
    "    return [X_test, Y_test]\n"
   ]
  },
  {
   "cell_type": "markdown",
   "metadata": {},
   "source": [
    "#### 3) SIMPLE CLASSIFICATION: RECTANGLE(0), DISK(1), TRIANGLE(2)"
   ]
  },
  {
   "cell_type": "markdown",
   "metadata": {},
   "source": [
    "##### a) STOCHASTIC GRADIENT OPTIMIZER"
   ]
  },
  {
   "cell_type": "code",
   "execution_count": 6,
   "metadata": {},
   "outputs": [
    {
     "name": "stdout",
     "output_type": "stream",
     "text": [
      "Creating data:\n",
      "0\n",
      "10\n",
      "20\n",
      "30\n",
      "40\n",
      "50\n",
      "60\n",
      "70\n",
      "80\n",
      "90\n",
      "100\n",
      "110\n",
      "120\n",
      "130\n",
      "140\n",
      "150\n",
      "160\n",
      "170\n",
      "180\n",
      "190\n",
      "200\n",
      "210\n",
      "220\n",
      "230\n",
      "240\n",
      "250\n",
      "260\n",
      "270\n",
      "280\n",
      "290\n"
     ]
    }
   ],
   "source": [
    "[X_train, Y_train] = generate_dataset_classification(300, 20) \n",
    "# Convert labels to categorical one-hot encoding\n",
    "Y_train = np_utils.to_categorical(Y_train, num_classes=3)"
   ]
  },
  {
   "cell_type": "code",
   "execution_count": 22,
   "metadata": {},
   "outputs": [
    {
     "name": "stdout",
     "output_type": "stream",
     "text": [
      "Epoch 1/10\n",
      "300/300 [==============================] - 1s 3ms/step - loss: 1.8465 - acc: 0.3600\n",
      "Epoch 2/10\n",
      "300/300 [==============================] - 0s 500us/step - loss: 0.9237 - acc: 0.5667\n",
      "Epoch 3/10\n",
      "300/300 [==============================] - 0s 550us/step - loss: 0.7963 - acc: 0.6267\n",
      "Epoch 4/10\n",
      "300/300 [==============================] - 0s 626us/step - loss: 0.7677 - acc: 0.6333\n",
      "Epoch 5/10\n",
      "300/300 [==============================] - 0s 593us/step - loss: 0.6066 - acc: 0.7500\n",
      "Epoch 6/10\n",
      "300/300 [==============================] - 0s 563us/step - loss: 0.5235 - acc: 0.7600\n",
      "Epoch 7/10\n",
      "300/300 [==============================] - 0s 550us/step - loss: 0.4591 - acc: 0.7900\n",
      "Epoch 8/10\n",
      "300/300 [==============================] - 0s 566us/step - loss: 0.4824 - acc: 0.7867\n",
      "Epoch 9/10\n",
      "300/300 [==============================] - 0s 646us/step - loss: 0.4240 - acc: 0.7767\n",
      "Epoch 10/10\n",
      "300/300 [==============================] - 0s 546us/step - loss: 0.3491 - acc: 0.8700\n"
     ]
    },
    {
     "data": {
      "text/plain": [
       "<keras.callbacks.History at 0x1c66e1b4f98>"
      ]
     },
     "execution_count": 22,
     "metadata": {},
     "output_type": "execute_result"
    }
   ],
   "source": [
    "#Stochastic Gradient Descent \n",
    "# For a three-class classification problem\n",
    "model = Sequential()\n",
    "model.add(Dense(128, activation='relu', input_shape=(5184,)))\n",
    "model.add(Dense(3, activation='softmax'))\n",
    "sgd = optimizers.SGD(lr=0.01, decay=1e-6, momentum=0.5, nesterov=False)\n",
    "model.compile(loss='categorical_crossentropy', \n",
    "              optimizer=sgd,metrics=['accuracy']) \n",
    "\n",
    "#training the model  \n",
    "model.fit(X_train, Y_train, epochs=10, batch_size=32)"
   ]
  },
  {
   "cell_type": "code",
   "execution_count": 23,
   "metadata": {},
   "outputs": [
    {
     "data": {
      "text/plain": [
       "array([[0., 1., 0.]], dtype=float32)"
      ]
     },
     "execution_count": 23,
     "metadata": {},
     "output_type": "execute_result"
    }
   ],
   "source": [
    "#testing\n",
    "X_test = generate_a_disk() #classe 1\n",
    "X_test = X_test.reshape(1, X_test.shape[0])\n",
    "model.predict(X_test,batch_size=32, verbose=0)"
   ]
  },
  {
   "cell_type": "markdown",
   "metadata": {},
   "source": [
    "##### B) ADAM OPTIMIZER"
   ]
  },
  {
   "cell_type": "code",
   "execution_count": 11,
   "metadata": {},
   "outputs": [
    {
     "name": "stdout",
     "output_type": "stream",
     "text": [
      "Epoch 1/10\n",
      "300/300 [==============================] - 1s 3ms/step - loss: 1.3235 - acc: 0.4600\n",
      "Epoch 2/10\n",
      "300/300 [==============================] - 0s 450us/step - loss: 0.7039 - acc: 0.6533\n",
      "Epoch 3/10\n",
      "300/300 [==============================] - 0s 363us/step - loss: 0.4856 - acc: 0.7667\n",
      "Epoch 4/10\n",
      "300/300 [==============================] - 0s 406us/step - loss: 0.3914 - acc: 0.8233\n",
      "Epoch 5/10\n",
      "300/300 [==============================] - 0s 433us/step - loss: 0.2960 - acc: 0.9300\n",
      "Epoch 6/10\n",
      "300/300 [==============================] - 0s 500us/step - loss: 0.2759 - acc: 0.9233\n",
      "Epoch 7/10\n",
      "300/300 [==============================] - 0s 736us/step - loss: 0.2948 - acc: 0.8667\n",
      "Epoch 8/10\n",
      "300/300 [==============================] - 0s 660us/step - loss: 0.2132 - acc: 0.9533\n",
      "Epoch 9/10\n",
      "300/300 [==============================] - 0s 526us/step - loss: 0.2317 - acc: 0.9167\n",
      "Epoch 10/10\n",
      "300/300 [==============================] - 0s 650us/step - loss: 0.2638 - acc: 0.8867 0s - loss: 0.2291 - acc: 0.906\n"
     ]
    },
    {
     "data": {
      "text/plain": [
       "<keras.callbacks.History at 0x1c66979da58>"
      ]
     },
     "execution_count": 11,
     "metadata": {},
     "output_type": "execute_result"
    }
   ],
   "source": [
    "# For a three-class classification problem\n",
    "model_A = Sequential()\n",
    "model_A.add(Dense(3, activation='softmax',input_shape = (5184,)))\n",
    "model_A.compile(loss='categorical_crossentropy', \n",
    "              optimizer='adam',metrics=['accuracy']) \n",
    "#training the model\n",
    "model_A.fit(X_train, Y_train, epochs=10, batch_size=32)\n"
   ]
  },
  {
   "cell_type": "code",
   "execution_count": 24,
   "metadata": {},
   "outputs": [
    {
     "data": {
      "text/plain": [
       "array([[0., 1., 0.]], dtype=float32)"
      ]
     },
     "execution_count": 24,
     "metadata": {},
     "output_type": "execute_result"
    }
   ],
   "source": [
    "#testing\n",
    "X_test = generate_a_disk() #classe 1\n",
    "X_test = X_test.reshape(1, X_test.shape[0])\n",
    "model_A.predict(X_test,batch_size=32, verbose=0)"
   ]
  },
  {
   "cell_type": "markdown",
   "metadata": {},
   "source": [
    "Adam optimizer seems to have a better accurracy than the SGD optimizer."
   ]
  },
  {
   "cell_type": "markdown",
   "metadata": {},
   "source": [
    "### 4) VISUALIZATION OF THE SOLUTION"
   ]
  },
  {
   "cell_type": "code",
   "execution_count": 25,
   "metadata": {},
   "outputs": [
    {
     "data": {
      "image/png": "[encoded data removed]",
      "text/plain": [
       "<Figure size 432x288 with 1 Axes>"
      ]
     },
     "metadata": {
      "needs_background": "light"
     },
     "output_type": "display_data"
    },
    {
     "data": {
      "image/png": "[encoded data removed]",
      "text/plain": [
       "<Figure size 432x288 with 1 Axes>"
      ]
     },
     "metadata": {
      "needs_background": "light"
     },
     "output_type": "display_data"
    },
    {
     "data": {
      "image/png": "[encoded data removed]",
      "text/plain": [
       "<Figure size 432x288 with 1 Axes>"
      ]
     },
     "metadata": {
      "needs_background": "light"
     },
     "output_type": "display_data"
    }
   ],
   "source": [
    "# SGD optimizer\n",
    "W = model.layers[0].get_weights()\n",
    "plt.imshow(W[0][:,0].reshape(72,72), cmap='gray')\n",
    "plt.show()\n",
    "plt.imshow(W[0][:,1].reshape(72,72), cmap='gray')\n",
    "plt.show()\n",
    "plt.imshow(W[0][:,2].reshape(72,72), cmap='gray')\n",
    "plt.show()"
   ]
  },
  {
   "cell_type": "code",
   "execution_count": 26,
   "metadata": {},
   "outputs": [
    {
     "data": {
      "image/png": "[encoded data removed]",
      "text/plain": [
       "<Figure size 432x288 with 1 Axes>"
      ]
     },
     "metadata": {
      "needs_background": "light"
     },
     "output_type": "display_data"
    },
    {
     "data": {
      "image/png": "[encoded data removed]",
      "text/plain": [
       "<Figure size 432x288 with 1 Axes>"
      ]
     },
     "metadata": {
      "needs_background": "light"
     },
     "output_type": "display_data"
    },
    {
     "data": {
      "image/png": "[encoded data removed]",
      "text/plain": [
       "<Figure size 432x288 with 1 Axes>"
      ]
     },
     "metadata": {
      "needs_background": "light"
     },
     "output_type": "display_data"
    }
   ],
   "source": [
    "# Adam optimizer\n",
    "W = model_A.layers[0].get_weights()\n",
    "plt.imshow(W[0][:,0].reshape(72,72), cmap='gray')\n",
    "plt.show()\n",
    "plt.imshow(W[0][:,1].reshape(72,72), cmap='gray')\n",
    "plt.show()\n",
    "plt.imshow(W[0][:,2].reshape(72,72), cmap='gray')\n",
    "plt.show()"
   ]
  },
  {
   "cell_type": "markdown",
   "metadata": {},
   "source": [
    "### 5) MORE DIFFICULT CLASSIFICATION PROBLEM"
   ]
  },
  {
   "cell_type": "code",
   "execution_count": 40,
   "metadata": {},
   "outputs": [
    {
     "name": "stdout",
     "output_type": "stream",
     "text": [
      "Creating data:\n",
      "0\n",
      "10\n",
      "20\n",
      "30\n",
      "40\n",
      "50\n",
      "60\n",
      "70\n",
      "80\n",
      "90\n",
      "100\n",
      "110\n",
      "120\n",
      "130\n",
      "140\n",
      "150\n",
      "160\n",
      "170\n",
      "180\n",
      "190\n",
      "200\n",
      "210\n",
      "220\n",
      "230\n",
      "240\n",
      "250\n",
      "260\n",
      "270\n",
      "280\n",
      "290\n"
     ]
    }
   ],
   "source": [
    "[X_train, Y_train] = generate_dataset_classification(300, 20, True)\n",
    "Y_train = np_utils.to_categorical(Y_train, num_classes=3)\n"
   ]
  },
  {
   "cell_type": "code",
   "execution_count": 32,
   "metadata": {},
   "outputs": [
    {
     "name": "stdout",
     "output_type": "stream",
     "text": [
      "Epoch 1/10\n",
      "300/300 [==============================] - 2s 5ms/step - loss: 4.0787 - acc: 0.3100\n",
      "Epoch 2/10\n",
      "300/300 [==============================] - 0s 2ms/step - loss: 1.1330 - acc: 0.3800\n",
      "Epoch 3/10\n",
      "300/300 [==============================] - 0s 1ms/step - loss: 1.0837 - acc: 0.3967\n",
      "Epoch 4/10\n",
      "300/300 [==============================] - 0s 693us/step - loss: 1.0811 - acc: 0.4000\n",
      "Epoch 5/10\n",
      "300/300 [==============================] - 0s 610us/step - loss: 1.0724 - acc: 0.4067\n",
      "Epoch 6/10\n",
      "300/300 [==============================] - 0s 520us/step - loss: 1.0702 - acc: 0.4867\n",
      "Epoch 7/10\n",
      "300/300 [==============================] - 0s 680us/step - loss: 1.0684 - acc: 0.3900\n",
      "Epoch 8/10\n",
      "300/300 [==============================] - 0s 476us/step - loss: 1.0551 - acc: 0.4033\n",
      "Epoch 9/10\n",
      "300/300 [==============================] - 0s 576us/step - loss: 1.0410 - acc: 0.4467\n",
      "Epoch 10/10\n",
      "300/300 [==============================] - 0s 510us/step - loss: 1.0160 - acc: 0.5367\n"
     ]
    },
    {
     "data": {
      "text/plain": [
       "<keras.callbacks.History at 0x1c602a5f8d0>"
      ]
     },
     "execution_count": 32,
     "metadata": {},
     "output_type": "execute_result"
    }
   ],
   "source": [
    "#Stochastic Gradient Descent \n",
    "# For a three-class classification problem\n",
    "model = Sequential()\n",
    "model.add(Dense(168, activation='relu', input_shape = (5184,)))\n",
    "model.add(Dense(3, activation='softmax'))\n",
    "sgd = optimizers.SGD(lr=0.01, decay=1e-6, momentum=0.5, nesterov=False)\n",
    "model.compile(loss='categorical_crossentropy', \n",
    "              optimizer=sgd,metrics=['accuracy']) \n",
    "\n",
    "#training the model  \n",
    "model.fit(X_train, Y_train, epochs=10, batch_size=64)"
   ]
  },
  {
   "cell_type": "code",
   "execution_count": 44,
   "metadata": {},
   "outputs": [
    {
     "name": "stdout",
     "output_type": "stream",
     "text": [
      "Creating data:\n",
      "0\n",
      "10\n",
      "20\n",
      "30\n",
      "40\n",
      "50\n",
      "60\n",
      "70\n",
      "80\n",
      "90\n",
      "100\n",
      "110\n",
      "120\n",
      "130\n",
      "140\n",
      "150\n",
      "160\n",
      "170\n",
      "180\n",
      "190\n",
      "200\n",
      "210\n",
      "220\n",
      "230\n",
      "240\n",
      "250\n",
      "260\n",
      "270\n",
      "280\n",
      "290\n",
      "300/300 [==============================] - 0s 523us/step\n"
     ]
    },
    {
     "data": {
      "text/plain": [
       "[1.0247867552439371, 0.46333333412806194]"
      ]
     },
     "execution_count": 44,
     "metadata": {},
     "output_type": "execute_result"
    }
   ],
   "source": [
    "[X_test, Y_test] = generate_test_set_classification()\n",
    "\n",
    "#loss and accuracy\n",
    "model.evaluate(X_test, Y_test) #SGD optimizer"
   ]
  },
  {
   "cell_type": "code",
   "execution_count": 34,
   "metadata": {},
   "outputs": [
    {
     "name": "stdout",
     "output_type": "stream",
     "text": [
      "Epoch 1/10\n",
      "300/300 [==============================] - 1s 3ms/step - loss: 2.2492 - acc: 0.3567\n",
      "Epoch 2/10\n",
      "300/300 [==============================] - 0s 386us/step - loss: 1.6901 - acc: 0.3667\n",
      "Epoch 3/10\n",
      "300/300 [==============================] - 0s 280us/step - loss: 1.2031 - acc: 0.4600\n",
      "Epoch 4/10\n",
      "300/300 [==============================] - 0s 350us/step - loss: 1.0345 - acc: 0.4300\n",
      "Epoch 5/10\n",
      "300/300 [==============================] - 0s 297us/step - loss: 0.9575 - acc: 0.4800\n",
      "Epoch 6/10\n",
      "300/300 [==============================] - 0s 306us/step - loss: 0.9091 - acc: 0.5167\n",
      "Epoch 7/10\n",
      "300/300 [==============================] - 0s 340us/step - loss: 1.0132 - acc: 0.5067\n",
      "Epoch 8/10\n",
      "300/300 [==============================] - 0s 313us/step - loss: 1.0550 - acc: 0.4967\n",
      "Epoch 9/10\n",
      "300/300 [==============================] - 0s 380us/step - loss: 1.0967 - acc: 0.4733\n",
      "Epoch 10/10\n",
      "300/300 [==============================] - 0s 283us/step - loss: 1.0109 - acc: 0.5000\n"
     ]
    },
    {
     "data": {
      "text/plain": [
       "<keras.callbacks.History at 0x1c608f14c50>"
      ]
     },
     "execution_count": 34,
     "metadata": {},
     "output_type": "execute_result"
    }
   ],
   "source": [
    "# For a three-class classification problem\n",
    "model_A = Sequential()\n",
    "model_A.add(Dense(3, activation='softmax',input_shape = (5184,)))\n",
    "model_A.compile(loss='categorical_crossentropy', \n",
    "              optimizer='adam',metrics=['accuracy']) \n",
    "#training the model\n",
    "model_A.fit(X_train, Y_train, epochs=10, batch_size=32)"
   ]
  },
  {
   "cell_type": "code",
   "execution_count": 35,
   "metadata": {},
   "outputs": [
    {
     "name": "stdout",
     "output_type": "stream",
     "text": [
      "300/300 [==============================] - 0s 923us/step\n"
     ]
    },
    {
     "data": {
      "text/plain": [
       "[1.2037010113398234, 0.4233333325386047]"
      ]
     },
     "execution_count": 35,
     "metadata": {},
     "output_type": "execute_result"
    }
   ],
   "source": [
    "model_A.evaluate(X_test, Y_test) #Adam optimizer"
   ]
  },
  {
   "cell_type": "markdown",
   "metadata": {},
   "source": [
    "Previous models are less efficient with the new training set, Adam optimizer remains better than SGD optimizer."
   ]
  },
  {
   "cell_type": "code",
   "execution_count": 41,
   "metadata": {},
   "outputs": [
    {
     "name": "stdout",
     "output_type": "stream",
     "text": [
      "(300, 72, 72, 1)\n",
      "(300, 3)\n"
     ]
    }
   ],
   "source": [
    "#creating a new model  \n",
    "X_trainr=X_train.reshape(X_train.shape[0],72,72,1)\n",
    "print(X_trainr.shape)\n",
    "Y_trainr=Y_train\n",
    "print(Y_trainr.shape)"
   ]
  },
  {
   "cell_type": "code",
   "execution_count": 53,
   "metadata": {},
   "outputs": [
    {
     "name": "stdout",
     "output_type": "stream",
     "text": [
      "(None, 68, 68, 16)\n",
      "(None, 34, 34, 16)\n",
      "(None, 18496)\n",
      "(None, 3)\n",
      "Epoch 1/20\n",
      "300/300 [==============================] - 5s 17ms/step - loss: 1.3642 - acc: 0.3433\n",
      "Epoch 2/20\n",
      "300/300 [==============================] - 5s 18ms/step - loss: 0.9229 - acc: 0.6300\n",
      "Epoch 3/20\n",
      "300/300 [==============================] - 5s 16ms/step - loss: 0.8241 - acc: 0.7100\n",
      "Epoch 4/20\n",
      "300/300 [==============================] - 5s 15ms/step - loss: 0.7467 - acc: 0.7500\n",
      "Epoch 5/20\n",
      "300/300 [==============================] - 5s 17ms/step - loss: 0.6744 - acc: 0.7967\n",
      "Epoch 6/20\n",
      "300/300 [==============================] - 4s 14ms/step - loss: 0.6131 - acc: 0.7900\n",
      "Epoch 7/20\n",
      "300/300 [==============================] - 4s 15ms/step - loss: 0.5951 - acc: 0.8100\n",
      "Epoch 8/20\n",
      "300/300 [==============================] - 4s 13ms/step - loss: 0.5412 - acc: 0.8367\n",
      "Epoch 9/20\n",
      "300/300 [==============================] - 4s 14ms/step - loss: 0.4980 - acc: 0.8600\n",
      "Epoch 10/20\n",
      "300/300 [==============================] - 4s 14ms/step - loss: 0.4626 - acc: 0.8667\n",
      "Epoch 11/20\n",
      "300/300 [==============================] - 4s 15ms/step - loss: 0.4350 - acc: 0.8633\n",
      "Epoch 12/20\n",
      "300/300 [==============================] - 4s 14ms/step - loss: 0.4228 - acc: 0.8933\n",
      "Epoch 13/20\n",
      "300/300 [==============================] - 4s 14ms/step - loss: 0.4035 - acc: 0.8700\n",
      "Epoch 14/20\n",
      "300/300 [==============================] - 4s 15ms/step - loss: 0.3554 - acc: 0.9333\n",
      "Epoch 15/20\n",
      "300/300 [==============================] - 5s 15ms/step - loss: 0.3387 - acc: 0.9133\n",
      "Epoch 16/20\n",
      "300/300 [==============================] - 4s 14ms/step - loss: 0.3255 - acc: 0.9300\n",
      "Epoch 17/20\n",
      "300/300 [==============================] - 4s 14ms/step - loss: 0.3083 - acc: 0.9300\n",
      "Epoch 18/20\n",
      "300/300 [==============================] - 4s 15ms/step - loss: 0.2938 - acc: 0.9333\n",
      "Epoch 19/20\n",
      "300/300 [==============================] - 4s 14ms/step - loss: 0.2667 - acc: 0.9567\n",
      "Epoch 20/20\n",
      "300/300 [==============================] - 4s 14ms/step - loss: 0.2431 - acc: 0.9433\n"
     ]
    },
    {
     "data": {
      "text/plain": [
       "<keras.callbacks.History at 0x1c6087f0e80>"
      ]
     },
     "execution_count": 53,
     "metadata": {},
     "output_type": "execute_result"
    }
   ],
   "source": [
    "##Convolution2D\n",
    "model2 = Sequential() \n",
    "model2.add(Conv2D(16, (5,5), activation='relu',input_shape=(72,72,1)))\n",
    "model2.add(Dropout(0.25))\n",
    "print(model2.output_shape)\n",
    "\n",
    "model2.add(MaxPooling2D(pool_size =(2,2)))\n",
    "print(model2.output_shape)\n",
    "model2.add(Flatten())\n",
    "print(model2.output_shape)\n",
    "model2.add(Dense(3,activation='softmax'))\n",
    "print(model2.output_shape)\n",
    "\n",
    "\n",
    "model2.compile(loss='categorical_crossentropy', optimizer='adam',metrics=['accuracy'])\n",
    "model2.fit(X_trainr, Y_trainr, epochs=20, batch_size=32)"
   ]
  },
  {
   "cell_type": "code",
   "execution_count": 54,
   "metadata": {
    "scrolled": true
   },
   "outputs": [
    {
     "name": "stdout",
     "output_type": "stream",
     "text": [
      "(300, 72, 72, 1)\n"
     ]
    }
   ],
   "source": [
    "X_testr = X_test.reshape(X_test.shape[0],72,72,1)\n",
    "print(X_testr.shape)"
   ]
  },
  {
   "cell_type": "code",
   "execution_count": 55,
   "metadata": {},
   "outputs": [
    {
     "name": "stdout",
     "output_type": "stream",
     "text": [
      "300/300 [==============================] - 2s 7ms/step\n"
     ]
    },
    {
     "data": {
      "text/plain": [
       "[0.6428067207336425, 0.7200000007947286]"
      ]
     },
     "execution_count": 55,
     "metadata": {},
     "output_type": "execute_result"
    }
   ],
   "source": [
    "model2.evaluate(X_testr, Y_test)"
   ]
  },
  {
   "cell_type": "markdown",
   "metadata": {},
   "source": [
    "The value of the lost function when using the deep network is: 0.64. "
   ]
  },
  {
   "cell_type": "markdown",
   "metadata": {},
   "source": [
    "### 6) A REGRESSION PROBLEM"
   ]
  },
  {
   "cell_type": "code",
   "execution_count": 56,
   "metadata": {},
   "outputs": [],
   "source": [
    "#normalize vertices\n",
    "def normer(Y):\n",
    "    for i in range(len(Y)):\n",
    "        a = math.sqrt(Y[i,0]**2 + Y[i,1]**2)\n",
    "        b = math.sqrt(Y[i,2]**2 + Y[i,3]**2)\n",
    "        c = math.sqrt(Y[i,4]**2 + Y[i,5]**2)\n",
    "        Y[i,:]=[Y[i,0]/a,Y[i,1]/a,Y[i,2]/b,Y[i,3]/b,Y[i,4]/c,Y[i,5]/c]\n",
    "    return Y\n"
   ]
  },
  {
   "cell_type": "code",
   "execution_count": 57,
   "metadata": {},
   "outputs": [
    {
     "name": "stdout",
     "output_type": "stream",
     "text": [
      "Creating data:\n",
      "0\n",
      "10\n",
      "20\n",
      "30\n",
      "40\n",
      "50\n",
      "60\n",
      "70\n",
      "80\n",
      "90\n",
      "100\n",
      "110\n",
      "120\n",
      "130\n",
      "140\n",
      "150\n",
      "160\n",
      "170\n",
      "180\n",
      "190\n",
      "200\n",
      "210\n",
      "220\n",
      "230\n",
      "240\n",
      "250\n",
      "260\n",
      "270\n",
      "280\n",
      "290\n"
     ]
    },
    {
     "data": {
      "image/png": "[encoded data removed]",
      "text/plain": [
       "<Figure size 360x360 with 1 Axes>"
      ]
     },
     "metadata": {
      "needs_background": "light"
     },
     "output_type": "display_data"
    }
   ],
   "source": [
    "[X_train, Y_train] = generate_dataset_regression(300, 20)\n",
    "visualize_prediction(X_train[0], Y_train[0])"
   ]
  },
  {
   "cell_type": "code",
   "execution_count": 58,
   "metadata": {},
   "outputs": [],
   "source": [
    "X_train2 = X_train.reshape(X_train.shape[0], 72, 72, 1)\n",
    "Y_train = normer(Y_train)"
   ]
  },
  {
   "cell_type": "code",
   "execution_count": 62,
   "metadata": {},
   "outputs": [
    {
     "name": "stdout",
     "output_type": "stream",
     "text": [
      "Epoch 1/20\n",
      "300/300 [==============================] - 3s 11ms/step - loss: 0.2246\n",
      "Epoch 2/20\n",
      "300/300 [==============================] - 2s 6ms/step - loss: 0.0869\n",
      "Epoch 3/20\n",
      "300/300 [==============================] - 2s 6ms/step - loss: 0.0822\n",
      "Epoch 4/20\n",
      "300/300 [==============================] - 2s 8ms/step - loss: 0.0787\n",
      "Epoch 5/20\n",
      "300/300 [==============================] - 2s 6ms/step - loss: 0.0755\n",
      "Epoch 6/20\n",
      "300/300 [==============================] - 2s 6ms/step - loss: 0.0746\n",
      "Epoch 7/20\n",
      "300/300 [==============================] - 2s 6ms/step - loss: 0.0742\n",
      "Epoch 8/20\n",
      "300/300 [==============================] - 2s 6ms/step - loss: 0.0722\n",
      "Epoch 9/20\n",
      "300/300 [==============================] - 2s 7ms/step - loss: 0.0724\n",
      "Epoch 10/20\n",
      "300/300 [==============================] - 2s 7ms/step - loss: 0.0699\n",
      "Epoch 11/20\n",
      "300/300 [==============================] - 2s 7ms/step - loss: 0.0686\n",
      "Epoch 12/20\n",
      "300/300 [==============================] - 3s 9ms/step - loss: 0.0682\n",
      "Epoch 13/20\n",
      "300/300 [==============================] - 2s 7ms/step - loss: 0.0675\n",
      "Epoch 14/20\n",
      "300/300 [==============================] - 2s 6ms/step - loss: 0.0672\n",
      "Epoch 15/20\n",
      "300/300 [==============================] - 2s 5ms/step - loss: 0.0662\n",
      "Epoch 16/20\n",
      "300/300 [==============================] - 2s 6ms/step - loss: 0.0659\n",
      "Epoch 17/20\n",
      "300/300 [==============================] - 2s 6ms/step - loss: 0.0659\n",
      "Epoch 18/20\n",
      "300/300 [==============================] - 2s 6ms/step - loss: 0.0648\n",
      "Epoch 19/20\n",
      "300/300 [==============================] - 2s 6ms/step - loss: 0.0646\n",
      "Epoch 20/20\n",
      "300/300 [==============================] - 2s 6ms/step - loss: 0.0640\n"
     ]
    },
    {
     "data": {
      "text/plain": [
       "<keras.callbacks.History at 0x1c605f9be80>"
      ]
     },
     "execution_count": 62,
     "metadata": {},
     "output_type": "execute_result"
    }
   ],
   "source": [
    "model_r = Sequential()\n",
    "model_r.add(Conv2D(16, (5, 5), activation='relu', input_shape=(72, 72, 1)))\n",
    "model_r.add(MaxPooling2D(pool_size=(2, 2)))\n",
    "model_r.add(Conv2D(8, (5, 5), activation='relu', input_shape=(72, 72, 1)))\n",
    "model_r.add(MaxPooling2D(pool_size=(2, 2)))\n",
    "model_r.add(Flatten()) \n",
    "model_r.add(Dense(256, activation='relu')) \n",
    "model_r.add(Dense(128, activation='relu')) \n",
    "model_r.add(Dense(6)) \n",
    "\n",
    "adam = Adam(lr=1e-3, beta_1=0.5, beta_2=0.5, epsilon=0.001, decay=0.1)\n",
    "model_r.compile(loss='mean_squared_error', \n",
    "              optimizer=adam,metrics = ['accuracy'])\n",
    "model_r.fit(X_train2, Y_train, epochs=20, batch_size=64)\n"
   ]
  },
  {
   "cell_type": "code",
   "execution_count": 63,
   "metadata": {},
   "outputs": [
    {
     "name": "stdout",
     "output_type": "stream",
     "text": [
      "Creating data:\n",
      "0\n",
      "10\n",
      "20\n",
      "30\n",
      "40\n",
      "50\n",
      "60\n",
      "70\n",
      "80\n",
      "90\n",
      "100\n",
      "110\n",
      "120\n",
      "130\n",
      "140\n",
      "150\n",
      "160\n",
      "170\n",
      "180\n",
      "190\n",
      "200\n",
      "210\n",
      "220\n",
      "230\n",
      "240\n",
      "250\n",
      "260\n",
      "270\n",
      "280\n",
      "290\n"
     ]
    }
   ],
   "source": [
    "[X_test, Y_test] = generate_test_set_regression()\n",
    "X_test = X_test.reshape(X_test.shape[0], 72, 72, 1)"
   ]
  },
  {
   "cell_type": "code",
   "execution_count": 64,
   "metadata": {},
   "outputs": [
    {
     "name": "stdout",
     "output_type": "stream",
     "text": [
      "300/300 [==============================] - 1s 4ms/step\n"
     ]
    },
    {
     "data": {
      "text/plain": [
       "0.07040431290864944"
      ]
     },
     "execution_count": 64,
     "metadata": {},
     "output_type": "execute_result"
    }
   ],
   "source": [
    "Y_test = normer(Y_test)\n",
    "model_r.evaluate(X_test, Y_test)"
   ]
  },
  {
   "cell_type": "markdown",
   "metadata": {},
   "source": [
    "### 7) IMAGE DENOISING"
   ]
  },
  {
   "cell_type": "code",
   "execution_count": null,
   "metadata": {},
   "outputs": [],
   "source": []
  }
 ],
 "metadata": {
  "kernelspec": {
   "display_name": "Python (3.5)",
   "language": "python",
   "name": "py35"
  },
  "language_info": {
   "codemirror_mode": {
    "name": "ipython",
    "version": 3
   },
   "file_extension": ".py",
   "mimetype": "text/x-python",
   "name": "python",
   "nbconvert_exporter": "python",
   "pygments_lexer": "ipython3",
   "version": "3.5.6"
  }
 },
 "nbformat": 4,
 "nbformat_minor": 2
}
