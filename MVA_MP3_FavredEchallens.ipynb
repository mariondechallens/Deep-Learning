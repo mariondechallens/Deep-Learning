{
 "cells": [
  {
   "cell_type": "markdown",
   "metadata": {},
   "source": [
    "**You may need to install [OpenCV](https://pypi.python.org/pypi/opencv-python) and [scikit-video](http://www.scikit-video.org/stable/).**"
   ]
  },
  {
   "cell_type": "code",
   "execution_count": 1,
   "metadata": {},
   "outputs": [
    {
     "name": "stderr",
     "output_type": "stream",
     "text": [
      "Using TensorFlow backend.\n"
     ]
    }
   ],
   "source": [
    "import keras\n",
    "import numpy as np\n",
    "import io\n",
    "import base64\n",
    "from IPython.display import HTML\n",
    "import skvideo.io\n",
    "import cv2\n",
    "import json\n",
    "\n",
    "from keras.models import Sequential,model_from_json\n",
    "from keras.layers.core import Dense\n",
    "from keras.optimizers import sgd, Adam \n",
    "from keras.layers import Conv2D, MaxPooling2D, Flatten"
   ]
  },
  {
   "cell_type": "markdown",
   "metadata": {},
   "source": [
    "# MiniProject #3: Deep Reinforcement Learning"
   ]
  },
  {
   "cell_type": "markdown",
   "metadata": {},
   "source": [
    "__Notations__: $E_p$ is the expectation under probability $p$. Please justify each of your answer and widely comment your code."
   ]
  },
  {
   "cell_type": "markdown",
   "metadata": {},
   "source": [
    "# Context"
   ]
  },
  {
   "cell_type": "markdown",
   "metadata": {},
   "source": [
    "In a reinforcement learning algorithm, we modelize each step $t$ as an action $a_t$ obtained from a state $s_t$, i.e. $\\{(a_{t},s_{t})_{t\\leq T}\\}$ having the Markov property. We consider a discount factor $\\gamma \\in [0,1]$ that ensures convergence. The goal is to find among all the policies $\\pi$, one that maximizes the expected reward:\n",
    "\n",
    "\\begin{equation*}\n",
    "R(\\pi)=\\sum_{t\\leq T}E_{p^{\\pi}}[\\gamma^t r(s_{t},a_{t})] \\> ,\n",
    "\\end{equation*}\n",
    "\n",
    "where: \n",
    "\\begin{equation*}p^{\\pi}(a_{0},a_{1},s_{1},...,a_{T},s_{T})=p(a_{0})\\prod_{t=1}^{T}\\pi(a_{t}|s_{t})p(s_{t+1}|s_{t},a_{t}) \\> .\n",
    "\\end{equation*}\n",
    "\n",
    "We note the $Q$-function:\n",
    "\n",
    "\\begin{equation*}Q^\\pi(s,a)=E_{p^{\\pi}}[\\sum_{t\\leq T}\\gamma^{t}r(s_{t},a_{t})|s_{0}=s,a_{0}=a] \\> .\n",
    "\\end{equation*}\n",
    "\n",
    "Thus, the optimal Q function is:\n",
    "\\begin{equation*}\n",
    "Q^*(s,a)=\\max_{\\pi}Q^\\pi(s,a) \\> .\n",
    "\\end{equation*}\n",
    "\n",
    "In this project, we will apply the deep reinforcement learning techniques to a simple game: an agent will have to learn from scratch a policy that will permit it maximizing a reward."
   ]
  },
  {
   "cell_type": "markdown",
   "metadata": {},
   "source": [
    "## The environment, the agent and the game"
   ]
  },
  {
   "cell_type": "markdown",
   "metadata": {},
   "source": [
    "### The environment"
   ]
  },
  {
   "cell_type": "markdown",
   "metadata": {},
   "source": [
    "```Environment``` is an abstract class that represents the states, rewards, and actions to obtain the new state."
   ]
  },
  {
   "cell_type": "code",
   "execution_count": 2,
   "metadata": {},
   "outputs": [],
   "source": [
    "class Environment(object):\n",
    "    def __init__(self):\n",
    "        pass\n",
    "\n",
    "    def act(self, act):\n",
    "        \"\"\"\n",
    "        One can act on the environment and obtain its reaction:\n",
    "        - the new state\n",
    "        - the reward of the new state\n",
    "        - should we continue the game?\n",
    "\n",
    "        :return: state, reward, game_over\n",
    "        \"\"\"\n",
    "        \n",
    "        pass\n",
    "\n",
    "\n",
    "    def reset(self):\n",
    "        \"\"\"\n",
    "        Reinitialize the environment to a random state and returns\n",
    "        the original state\n",
    "\n",
    "        :return: state\n",
    "        \"\"\"\n",
    "        pass\n",
    "    \n",
    "    def draw(self):\n",
    "        \"\"\"\n",
    "        Visualize in the console or graphically the current state\n",
    "        \"\"\"\n",
    "        pass"
   ]
  },
  {
   "cell_type": "markdown",
   "metadata": {},
   "source": [
    "The method ```act``` allows to act on the environment at a given state $s_t$ (stored internally), via action $a_t$. The method will return the new state $s_{t+1}$, the reward $r(s_{t},a_{t})$ and determines if $t\\leq T$ (*game_over*).\n",
    "\n",
    "The method ```reset``` simply reinitializes the environment to a random state $s_0$.\n",
    "\n",
    "The method ```draw``` displays the current state $s_t$ (this is useful to check the behavior of the Agent).\n",
    "\n",
    "We modelize $s_t$ as a tensor, while $a_t$ is an integer."
   ]
  },
  {
   "cell_type": "markdown",
   "metadata": {},
   "source": [
    "### The Agent"
   ]
  },
  {
   "cell_type": "markdown",
   "metadata": {},
   "source": [
    "The goal of the ```Agent``` is to interact with the ```Environment``` by proposing actions $a_t$ obtained from a given state $s_t$ to attempt to maximize its __reward__ $r(s_t,a_t)$. We propose the following abstract class:"
   ]
  },
  {
   "cell_type": "code",
   "execution_count": 3,
   "metadata": {},
   "outputs": [],
   "source": [
    "class Agent(object):\n",
    "    def __init__(self, epsilon=0.1, n_action=4):\n",
    "        self.epsilon = epsilon  \n",
    "        self.n_action = n_action\n",
    "        \n",
    "    def set_epsilon(self,decreasing, e = 0.95):\n",
    "        if decreasing:\n",
    "            self.epsilon = self.epsilon * e\n",
    "\n",
    "    def act(self,s,train=True,decreasing =  False):\n",
    "        \"\"\" This function should return the next action to do:\n",
    "        an integer between 0 and 4 (not included) with a random exploration of epsilon\"\"\"\n",
    "        if train:\n",
    "            if np.random.rand() <= self.epsilon:\n",
    "                a = np.random.randint(0, self.n_action, size=1)[0]\n",
    "            else:\n",
    "                a = self.learned_act(s)\n",
    "            if (self.epsilon > 0.01):\n",
    "                self.set_epsilon(decreasing)\n",
    "                #print(self.epsilon)\n",
    "        else: # in some cases, this can improve the performance.. remove it if poor performances\n",
    "            a = self.learned_act(s)\n",
    "\n",
    "        return a\n",
    "\n",
    "    def learned_act(self,s):\n",
    "        \"\"\" Act via the policy of the agent, from a given state s\n",
    "        it proposes an action a\"\"\"\n",
    "        pass\n",
    "\n",
    "    def reinforce(self, s, n_s, a, r, game_over_):\n",
    "        \"\"\" This function is the core of the learning algorithm. \n",
    "        It takes as an input the current state s_, the next state n_s_\n",
    "        the action a_ used to move from s_ to n_s_ and the reward r_.\n",
    "        \n",
    "        Its goal is to learn a policy.\n",
    "        \"\"\"\n",
    "        pass\n",
    "\n",
    "    def save(self):\n",
    "        \"\"\" This function returns basic stats if applicable: the\n",
    "        loss and/or the model\"\"\"\n",
    "        pass\n",
    "\n",
    "    def load(self):\n",
    "        \"\"\" This function allows to restore a model\"\"\"\n",
    "        pass"
   ]
  },
  {
   "cell_type": "markdown",
   "metadata": {},
   "source": [
    "***\n",
    "__Question 1__:\n",
    "Explain the function act. Why is ```epsilon``` essential?"
   ]
  },
  {
   "cell_type": "markdown",
   "metadata": {},
   "source": [
    "The function act returns the next action to do by the agent. We assume that the argument train means that the function distinguishes testing and training times. During training, the epsilon-greedy strategy is used, that is to say a tradeoff between exploration and exploitation driven by the value of epsilon. (1-epsilon)% of the time, the action chosen is the one that maximizes the Q function given what it known so far, this is the exploitation process thanks to the function learned_act. Occasionnaly (epsilon % of the time), the agent does a random action so that he can explore a part of the environment not adviced by the current known best reward. During testing (train=FALSE), there is no exploration time.\n",
    "\n",
    "Thus epsilon is essential in order the agent to continue exploration occasionnaly during training. It allows him to complete his reinforcement process and then his policy with more parts of the environment in order to improve his chances to get future rewards. Epsilon also avoids overfitting."
   ]
  },
  {
   "cell_type": "markdown",
   "metadata": {},
   "source": [
    "***\n",
    "### The Game"
   ]
  },
  {
   "cell_type": "markdown",
   "metadata": {},
   "source": [
    "The ```Agent``` and the ```Environment``` work in an interlaced way as in the following (take some time to understand this code as it is the core of the project)\n",
    "\n",
    "```python\n",
    "\n",
    "epoch = 300\n",
    "env = Environment()\n",
    "agent = Agent()\n",
    "\n",
    "\n",
    "# Number of won games\n",
    "score = 0\n",
    "loss = 0\n",
    "\n",
    "\n",
    "for e in range(epoch):\n",
    "    # At each epoch, we restart to a fresh game and get the initial state\n",
    "    state = env.reset()\n",
    "    # This assumes that the games will end\n",
    "    game_over = False\n",
    "\n",
    "    win = 0\n",
    "    lose = 0\n",
    "    \n",
    "    while not game_over:\n",
    "        # The agent performs an action\n",
    "        action = agent.act(state)\n",
    "\n",
    "        # Apply an action to the environment, get the next state, the reward\n",
    "        # and if the games end\n",
    "        prev_state = state\n",
    "        state, reward, game_over = env.act(action)\n",
    "\n",
    "        # Update the counters\n",
    "        if reward > 0:\n",
    "            win = win + reward\n",
    "        if reward < 0:\n",
    "            lose = lose -reward\n",
    "\n",
    "        # Apply the reinforcement strategy\n",
    "        loss = agent.reinforce(prev_state, state,  action, reward, game_over)\n",
    "\n",
    "    # Save as a mp4\n",
    "    if e % 10 == 0:\n",
    "        env.draw(e)\n",
    "\n",
    "    # Update stats\n",
    "    score += win-lose\n",
    "\n",
    "    print(\"Epoch {:03d}/{:03d} | Loss {:.4f} | Win/lose count {}/{} ({})\"\n",
    "          .format(e, epoch, loss, win, lose, win-lose))\n",
    "    agent.save()\n",
    "```"
   ]
  },
  {
   "cell_type": "markdown",
   "metadata": {},
   "source": [
    "# The game, *eat cheese*"
   ]
  },
  {
   "cell_type": "markdown",
   "metadata": {},
   "source": [
    "A rat runs on an island and tries to eat as much as possible. The island is subdivided into $N\\times N$ cells, in which there are cheese (+0.5) and poisonous cells (-1). The rat has a visibility of 2 cells (thus it can see $5^2$ cells). The rat is given a time $T$ to accumulate as much food as possible. It can perform 4 actions: going up, down, left, right. \n",
    "\n",
    "The goal is to code an agent to solve this task that will learn by trial and error. We propose the following environment:"
   ]
  },
  {
   "cell_type": "code",
   "execution_count": 4,
   "metadata": {},
   "outputs": [],
   "source": [
    "class Environment(object):\n",
    "    def __init__(self, grid_size=10, max_time=500, temperature=0.1):\n",
    "        grid_size = grid_size+4\n",
    "        self.grid_size = grid_size\n",
    "        self.max_time = max_time\n",
    "        self.temperature = temperature\n",
    "\n",
    "        #board on which one plays\n",
    "        self.board = np.zeros((grid_size,grid_size))\n",
    "        self.position = np.zeros((grid_size,grid_size))\n",
    "\n",
    "        # coordinate of the rat\n",
    "        self.x = 0\n",
    "        self.y = 1\n",
    "\n",
    "        # self time\n",
    "        self.t = 0\n",
    "\n",
    "        self.scale=16\n",
    "\n",
    "        self.to_draw = np.zeros((max_time+2, grid_size*self.scale, grid_size*self.scale, 3))\n",
    "\n",
    "\n",
    "    def draw(self,e):\n",
    "        skvideo.io.vwrite(str(e) + '.mp4', self.to_draw)\n",
    "\n",
    "    def get_frame(self,t):\n",
    "        b = np.zeros((self.grid_size,self.grid_size,3))+128\n",
    "        b[self.board>0,0] = 256\n",
    "        b[self.board < 0, 2] = 256\n",
    "        b[self.x,self.y,:]=256\n",
    "        b[-2:,:,:]=0\n",
    "        b[:,-2:,:]=0\n",
    "        b[:2,:,:]=0\n",
    "        b[:,:2,:]=0\n",
    "        \n",
    "        b =  cv2.resize(b, None, fx=self.scale, fy=self.scale, interpolation=cv2.INTER_NEAREST)\n",
    "\n",
    "        self.to_draw[t,:,:,:]=b\n",
    "\n",
    "\n",
    "    def act(self, action):\n",
    "        \"\"\"This function returns the new state, reward and decides if the\n",
    "        game ends.\"\"\"\n",
    "\n",
    "        self.get_frame(int(self.t))\n",
    "\n",
    "        self.position = np.zeros((self.grid_size, self.grid_size))\n",
    "\n",
    "        self.position[0:2,:]= -1\n",
    "        self.position[:,0:2] = -1\n",
    "        self.position[-2:, :] = -1\n",
    "        #self.position[-2:, :] = -1\n",
    "        self.position[:, -2:] = -1\n",
    "\n",
    "        self.position[self.x, self.y] = 1\n",
    "        if action == 0:\n",
    "            if self.x == self.grid_size-3:\n",
    "                self.x = self.x-1\n",
    "            else:\n",
    "                self.x = self.x + 1\n",
    "        elif action == 1:\n",
    "            if self.x == 2:\n",
    "                self.x = self.x+1\n",
    "            else:\n",
    "                self.x = self.x-1\n",
    "        elif action == 2:\n",
    "            if self.y == self.grid_size - 3:\n",
    "                self.y = self.y - 1\n",
    "            else:\n",
    "                self.y = self.y + 1\n",
    "        elif action == 3:\n",
    "            if self.y == 2:\n",
    "                self.y = self.y + 1\n",
    "            else:\n",
    "                self.y = self.y - 1\n",
    "        else:\n",
    "            RuntimeError('Error: action not recognized')\n",
    "\n",
    "        self.t = self.t + 1\n",
    "        reward = self.board[self.x, self.y]\n",
    "        self.board[self.x, self.y] = 0\n",
    "        game_over = self.t > self.max_time\n",
    "        state = np.concatenate((self.board.reshape(self.grid_size, self.grid_size,1),\n",
    "                        self.position.reshape(self.grid_size, self.grid_size,1)),axis=2)\n",
    "        state = state[self.x-2:self.x+3,self.y-2:self.y+3,:]\n",
    "\n",
    "        return state, reward, game_over\n",
    "\n",
    "    def reset(self):\n",
    "        \"\"\"This function resets the game and returns the initial state\"\"\"\n",
    "\n",
    "        self.x = np.random.randint(3, self.grid_size-3, size=1)[0]\n",
    "        self.y = np.random.randint(3, self.grid_size-3, size=1)[0]\n",
    "\n",
    "\n",
    "        bonus = 0.5*np.random.binomial(1,self.temperature,size=self.grid_size**2)\n",
    "        bonus = bonus.reshape(self.grid_size,self.grid_size)\n",
    "\n",
    "        malus = -1.0*np.random.binomial(1,self.temperature,size=self.grid_size**2)\n",
    "        malus = malus.reshape(self.grid_size, self.grid_size)\n",
    "\n",
    "        self.to_draw = np.zeros((self.max_time+2, self.grid_size*self.scale, self.grid_size*self.scale, 3))\n",
    "\n",
    "\n",
    "        malus[bonus>0]=0\n",
    "\n",
    "        self.board = bonus + malus\n",
    "\n",
    "        self.position = np.zeros((self.grid_size, self.grid_size))\n",
    "        self.position[0:2,:]= -1\n",
    "        self.position[:,0:2] = -1\n",
    "        self.position[-2:, :] = -1\n",
    "        #self.position[-2:, :] = -1\n",
    "        self.position[:, -2:] = -1\n",
    "        self.board[self.x,self.y] = 0\n",
    "        self.t = 0\n",
    "\n",
    "        state = np.concatenate((\n",
    "                               self.board.reshape(self.grid_size, self.grid_size,1),\n",
    "                        self.position.reshape(self.grid_size, self.grid_size,1)),axis=2)\n",
    "\n",
    "        state = state[self.x - 2:self.x + 3, self.y - 2:self.y + 3, :]\n",
    "        return state"
   ]
  },
  {
   "cell_type": "markdown",
   "metadata": {},
   "source": [
    "The following elements are important because they correspond to the hyper parameters for this project:"
   ]
  },
  {
   "cell_type": "code",
   "execution_count": 5,
   "metadata": {},
   "outputs": [],
   "source": [
    "# parameters\n",
    "size = 13\n",
    "T=200\n",
    "temperature=0.3\n",
    "epochs_train= 10 # set small when debugging\n",
    "epochs_test= 10 # set small when debugging\n",
    "\n",
    "# display videos\n",
    "def display_videos(name):\n",
    "    video = io.open(name, 'r+b').read()\n",
    "    encoded = base64.b64encode(video)\n",
    "    return '''<video alt=\"test\" controls>\n",
    "                <source src=\"data:video/mp4;base64,{0}\" type=\"video/mp4\" />\n",
    "             </video>'''.format(encoded.decode('ascii'))"
   ]
  },
  {
   "cell_type": "markdown",
   "metadata": {},
   "source": [
    "__Question 2__ Explain the use of the arrays ```position``` and ```board```."
   ]
  },
  {
   "cell_type": "markdown",
   "metadata": {},
   "source": [
    "The array board defines the domain in which the rat can find cheese or poisonous cells and the array position defines where the rat is on the board at each state of the game. It is useful in order to draw the trajectory of the rat at the end."
   ]
  },
  {
   "cell_type": "markdown",
   "metadata": {},
   "source": [
    "## Random Agent"
   ]
  },
  {
   "cell_type": "markdown",
   "metadata": {},
   "source": [
    "***\n",
    "__Question 3__ Implement a random Agent (only ```learned_act``` needs to be implemented):"
   ]
  },
  {
   "cell_type": "code",
   "execution_count": 6,
   "metadata": {},
   "outputs": [],
   "source": [
    "class RandomAgent(Agent):\n",
    "    def __init__(self):\n",
    "        super(RandomAgent, self).__init__()\n",
    "        pass\n",
    "\n",
    "    def learned_act(self, s):\n",
    "        a = np.random.randint(0, 4, size=1)[0]\n",
    "        #pass\n",
    "        return a"
   ]
  },
  {
   "cell_type": "markdown",
   "metadata": {},
   "source": [
    "***\n",
    "***\n",
    "__Question 4__ Visualize the game moves. You need to fill in the following function for the evaluation:"
   ]
  },
  {
   "cell_type": "code",
   "execution_count": 7,
   "metadata": {},
   "outputs": [],
   "source": [
    "def test(agent,env,epochs,prefix='',train = False):\n",
    "    # Number of won games\n",
    "    score = 0\n",
    "        \n",
    "    for e in range(epochs):\n",
    "        \n",
    "        ##### FILL IN HERE\n",
    "        # At each epoch, we restart to a fresh game and get the initial state\n",
    "        state = env.reset()\n",
    "        # This assumes that the games will end\n",
    "        game_over = False\n",
    "\n",
    "        win = 0\n",
    "        lose = 0\n",
    "\n",
    "        while not game_over:\n",
    "        # The agent performs an action\n",
    "            action = agent.learned_act(state)\n",
    "\n",
    "        # Apply an action to the environment, get the next state, the reward\n",
    "        # and if the games end\n",
    "            prev_state = state\n",
    "            state, reward, game_over = env.act(action)\n",
    "\n",
    "        # Update the counters\n",
    "            if reward > 0:\n",
    "                win = win + reward\n",
    "            if reward < 0:\n",
    "                lose = lose -reward\n",
    "        \n",
    "        # Save as a mp4\n",
    "        env.draw(prefix+str(e))\n",
    "\n",
    "        # Update stats\n",
    "        score = score + win-lose\n",
    "\n",
    "        print(\"Win/lose count {}/{}. Average score ({})\"\n",
    "              .format(win, lose, score/(1+e)))\n",
    "    print('Final score: '+str(score/epochs))"
   ]
  },
  {
   "cell_type": "code",
   "execution_count": 8,
   "metadata": {},
   "outputs": [
    {
     "name": "stdout",
     "output_type": "stream",
     "text": [
      "Win/lose count 9.5/19.0. Average score (-9.5)\n",
      "Win/lose count 11.5/12.0. Average score (-5.0)\n",
      "Win/lose count 8.5/15.0. Average score (-5.5)\n",
      "Win/lose count 9.0/20.0. Average score (-6.875)\n",
      "Win/lose count 7.5/13.0. Average score (-6.6)\n",
      "Win/lose count 13.0/14.0. Average score (-5.666666666666667)\n",
      "Win/lose count 10.0/16.0. Average score (-5.714285714285714)\n",
      "Win/lose count 7.0/11.0. Average score (-5.5)\n",
      "Win/lose count 6.5/5.0. Average score (-4.722222222222222)\n",
      "Win/lose count 9.5/12.0. Average score (-4.5)\n",
      "Final score: -4.5\n"
     ]
    },
    {
     "data": {
      "text/html": [
       "<video alt=\"test\" controls>\n",
       "                <source src=\"data:video/mp4;base64,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\" type=\"video/mp4\" />\n",
       "             </video>"
      ],
      "text/plain": [
       "<IPython.core.display.HTML object>"
      ]
     },
     "execution_count": 8,
     "metadata": {},
     "output_type": "execute_result"
    }
   ],
   "source": [
    "# Initialize the game\n",
    "env = Environment(grid_size=size, max_time=T,temperature=temperature)\n",
    "\n",
    "# Initialize the agent!\n",
    "agent = RandomAgent()\n",
    "\n",
    "test(agent,env,epochs_test,prefix='random')\n",
    "HTML(display_videos('random0.mp4'))"
   ]
  },
  {
   "cell_type": "markdown",
   "metadata": {},
   "source": [
    "***\n",
    "## DQN"
   ]
  },
  {
   "cell_type": "markdown",
   "metadata": {},
   "source": [
    "Let us assume here that $T=\\infty$.\n",
    "\n",
    "***\n",
    "__Question 5__ Let $\\pi$ be a policy, show that:\n",
    "\n",
    "\\begin{equation*}\n",
    "Q^{\\pi}(s,a)=E_{(s',a')\\sim p(.|s,a)}[r(s,a)+\\gamma Q^{\\pi}(s',a')]\n",
    "\\end{equation*}\n",
    "\n",
    "Then, show that for the optimal policy $\\pi^*$ (we assume its existence), the following holds: \n",
    "\n",
    "\\begin{equation*}\n",
    "Q^{*}(s,a)=E_{s'\\sim \\pi^*(.|s,a)}[r(s,a)+\\gamma\\max_{a'}Q^{*}(s',a')].\n",
    "\\end{equation*}\n",
    "Finally, deduce that a plausible objective is:\n",
    "\n",
    "\\begin{equation*}\n",
    "\\mathcal{L}(\\theta)=E_{s' \\sim \\pi^*(.|s,a)}\\Vert r+\\gamma\\max\\max_{a'}Q(s',a',\\theta)-Q(s,a,\\theta)\\Vert^{2}.\n",
    "\\end{equation*}\n",
    "\n",
    "\n"
   ]
  },
  {
   "cell_type": "markdown",
   "metadata": {},
   "source": [
    "Proof:\n",
    "\n",
    "We have :\n",
    "\n",
    "\\begin{equation*}Q^\\pi(s,a)=E_{p^{\\pi}}[\\sum_{t\\leq T}\\gamma^{t}r(s_{t},a_{t})|s_{0}=s,a_{0}=a] \\> .\n",
    "\\end{equation*}\n",
    "\\begin{equation*}Q^\\pi(s,a)=E_{p^{\\pi}}[r(s,a) + \\sum_{1\\leq t\\leq T}\\gamma^{t}r(s_{t},a_{t})|s_{0}=s,a_{0}=a] \\> .\n",
    "\\end{equation*}\n",
    "\\begin{equation*}Q^\\pi(s,a)=E_{p^{\\pi}}[r(s,a) + \\gamma \\sum_{t\\leq T}\\gamma^{t}r(s_{t+1},a_{t+1})|s_{0}=s,a_{0}=a] \\> .\n",
    "\\end{equation*}\n",
    "\\begin{equation*}Q^\\pi(s,a)=E_{p^{\\pi}}[r(s,a) + \\gamma \\sum_{t\\leq T}\\gamma^{t}r(s'_{t},a'_{t})|s_{0}=s,a_{0}=a] \\> .\n",
    "\\end{equation*}\n",
    "\\begin{equation*}Q^\\pi(s,a)=E_{p^{\\pi}}[E_{p^{\\pi}}[r(s,a) + \\gamma \\sum_{t\\leq T}\\gamma^{t}r(s'_{t},a'_{t}) |s_{0}'=s',a_{0}'=a']|s_{0}=s,a_{0}=a] \\> .\n",
    "\\end{equation*}\n",
    "\\begin{equation*}Q^{\\pi}(s,a)=E_{(s',a')\\sim p(.|s,a)}[r(s,a)+\\gamma Q^{\\pi}(s',a')] \\> .\n",
    "\\end{equation*}\n",
    "\n",
    "\n",
    "Then, if $\\pi^*$ is the optimal policy, \n",
    "\n",
    "\\begin{equation*}\n",
    "Q^*(s,a)=\\max_{\\pi}Q^\\pi(s,a)\n",
    "\\end{equation*}\n",
    "and because a policy is a function from state to action we have:\n",
    "\\begin{equation*}\n",
    "a=\\pi(s) \n",
    "\\end{equation*}\n",
    "\n",
    "so,\n",
    "\n",
    "\\begin{equation*}\n",
    "\\pi^*(s)=argmax_{a} Q^*(s,a) \\Leftrightarrow Q^*(s,\\pi^*(s)) = \\max_{a}Q^*(s,a)\n",
    "\\end{equation*}\n",
    "\n",
    "Thus,\n",
    "\n",
    "\\begin{equation*}\n",
    "Q^*(s,a)=\\max_{\\pi}E_{(s',a')\\sim p(.|s,a)}[r(s,a)+\\gamma Q^{\\pi}(s',a')]\n",
    "\\end{equation*} \n",
    "\n",
    "\\begin{equation*}\n",
    "Q^{*}(s,a)=E_{s'\\sim \\pi^*(.|s,a)}[r(s,a)+\\gamma\\max_{a'}Q^{*}(s',a')].\n",
    "\\end{equation*}\n",
    "\n",
    "Finally, the quantity\n",
    "\n",
    "\\begin{equation*}\n",
    "r+\\gamma\\max_{a'}Q(s',a',\\theta)-Q(s,a,\\theta)\n",
    "\\end{equation*}\n",
    "\n",
    "can be seen as an error and thus,\n",
    "\n",
    "\\begin{equation*}\n",
    "\\mathcal{L}(\\theta)=E_{s' \\sim \\pi^*(.|s,a)}\\Vert r+\\gamma\\max_{a'}Q(s',a',\\theta)-Q(s,a,\\theta)\\Vert^{2}.\n",
    "\\end{equation*} \n",
    "\n",
    "can be the loss function (L2 norm of the error), which is a plausible objective to minimize."
   ]
  },
  {
   "cell_type": "markdown",
   "metadata": {},
   "source": [
    "***\n",
    "The DQN-learning algorithm relies on these derivations to train the parameters $\\theta$ of a Deep Neural Network:\n",
    "\n",
    "1. At the state $s_t$, select the action $a_t$ with best reward using $Q_t$ and store the results;\n",
    "\n",
    "2. Obtain the new state $s_{t+1}$ from the environment $p$;\n",
    "\n",
    "3. Store $(s_t,a_t,s_{t+1})$;\n",
    "\n",
    "4. Obtain $Q_{t+1}$ by minimizing  $\\mathcal{L}$ from a recovered batch from the previously stored results.\n",
    "\n",
    "***\n",
    "__Question 6__ Implement the class ```Memory``` that stores moves (in a replay buffer) via ```remember``` and provides a ```random_access``` to these. Specify a maximum memory size to avoid side effects. You can for example use a ```list()``` and set by default ```max_memory=100```."
   ]
  },
  {
   "cell_type": "code",
   "execution_count": 9,
   "metadata": {},
   "outputs": [],
   "source": [
    "class Memory(object):\n",
    "    def __init__(self, max_memory=100):\n",
    "        self.max_memory = max_memory\n",
    "        self.memory = list()\n",
    "\n",
    "    def remember(self, m): # m = s_, n_s_, a_, r_, game_over_\n",
    "        #pass\n",
    "        if len(self.memory) < self.max_memory:\n",
    "            self.memory.append(m)\n",
    "\n",
    "    def random_access(self):\n",
    "        a = np.random.randint(0, len(self.memory), size=1)[0]\n",
    "        rd_state = self.memory[a]\n",
    "        return rd_state"
   ]
  },
  {
   "cell_type": "markdown",
   "metadata": {},
   "source": [
    "***\n",
    "The pipeline we will use for training is given below:"
   ]
  },
  {
   "cell_type": "code",
   "execution_count": 10,
   "metadata": {},
   "outputs": [],
   "source": [
    "def train(agent,env,epoch,prefix=''):\n",
    "    # Number of won games\n",
    "    score = 0\n",
    "    loss = 0\n",
    "\n",
    "    for e in range(epoch):\n",
    "        # At each epoch, we restart to a fresh game and get the initial state\n",
    "        state = env.reset()\n",
    "        # This assumes that the games will terminate\n",
    "        game_over = False\n",
    "\n",
    "        win = 0\n",
    "        lose = 0\n",
    "\n",
    "        while not game_over:\n",
    "            # The agent performs an action\n",
    "            action = agent.act(state)\n",
    "\n",
    "            # Apply an action to the environment, get the next state, the reward\n",
    "            # and if the games end\n",
    "            prev_state = state\n",
    "            state, reward, game_over = env.act(action)\n",
    "\n",
    "            # Update the counters\n",
    "            if reward > 0:\n",
    "                win = win + reward\n",
    "            if reward < 0:\n",
    "                lose = lose -reward\n",
    "\n",
    "            # Apply the reinforcement strategy\n",
    "            loss = agent.reinforce(prev_state, state,  action, reward, game_over)\n",
    "\n",
    "        # Save as a mp4\n",
    "        if e % 10 == 0:\n",
    "            env.draw(prefix+str(e))\n",
    "\n",
    "        # Update stats\n",
    "        score += win-lose\n",
    "\n",
    "        print(\"Epoch {:03d}/{:03d} | Loss {:.4f} | Win/lose count {}/{} ({})\"\n",
    "              .format(e, epoch, loss, win, lose, win-lose))\n",
    "        agent.save(name_weights=prefix+'model.h5',name_model=prefix+'model.json')"
   ]
  },
  {
   "cell_type": "markdown",
   "metadata": {},
   "source": [
    "***\n",
    "__Question 7__ Implement the DQN training algorithm using a cascade of fully connected layers. You can use different learning rate, batch size or memory size parameters. In particular, the loss might oscillate while the player will start to win the games. You have to find a good criterium."
   ]
  },
  {
   "cell_type": "code",
   "execution_count": 11,
   "metadata": {},
   "outputs": [],
   "source": [
    "class DQN(Agent):\n",
    "    def __init__(self, grid_size,  epsilon = 0.1, memory_size=100, batch_size = 16,n_state=2):\n",
    "        super(DQN, self).__init__(epsilon = epsilon)\n",
    "\n",
    "        # Discount for Q learning\n",
    "        self.discount = 0.99\n",
    "        \n",
    "        self.grid_size = grid_size\n",
    "        \n",
    "        # number of state\n",
    "        self.n_state = n_state\n",
    "\n",
    "        # Memory\n",
    "        self.memory = Memory(memory_size)\n",
    "        \n",
    "        # Batch size when learning\n",
    "        self.batch_size = batch_size\n",
    "\n",
    "    def learned_act(self, s):\n",
    "        s = s.reshape(1,5,5,nstate)\n",
    "        Q = self.model.predict(s) #prediction is [Q(s,a) for a action]\n",
    "        return np.argmax(Q[0])\n",
    "        \n",
    "\n",
    "    def reinforce(self, s_, n_s_, a_, r_, game_over_):\n",
    "        # Two steps: first memorize the states, second learn from the pool\n",
    "\n",
    "        self.memory.remember([s_, n_s_, a_, r_, game_over_])\n",
    "        \n",
    "        input_states = np.zeros((self.batch_size, 5,5,self.n_state))\n",
    "        target_q = np.zeros((self.batch_size, 4))\n",
    "        \n",
    "        for i in range(self.batch_size):\n",
    "            ######## FILL IN\n",
    "            state,next_,action,reward,go = self.memory.random_access()\n",
    "            input_states[i] = state\n",
    "            state = state.reshape(1,5,5,nstate)\n",
    "            next_ = next_.reshape(1,5,5,nstate)\n",
    "            buffer = self.model.predict(state) #prediction is [Q(s,a) for a action]\n",
    "            target_q[i] = buffer[0]\n",
    "            for k in range(4):\n",
    "                if k == action:\n",
    "                    if go:\n",
    "                        target_q[i,k] = reward \n",
    "                    else:\n",
    "                        ##buffer_new = values of current Q at state next_ for all possible actions\n",
    "                        #for j in range(4):\n",
    "                        buffer_new = self.model.predict(next_) #predictions for the new state\n",
    "                        target_q[i,k] = reward + self.discount * max(buffer_new[0])\n",
    "            \n",
    "                ######## FILL IN\n",
    "\n",
    "                \n",
    "        ######## FILL IN\n",
    "            \n",
    "        # HINT: Clip the target to avoid exploiding gradients.. -- clipping is a bit tighter\n",
    "        target_q = np.clip(target_q, -3, 3) \n",
    "\n",
    "        l = self.model.train_on_batch(input_states, target_q)\n",
    "\n",
    "\n",
    "        return l\n",
    "\n",
    "    def save(self,name_weights='model.h5',name_model='model.json'):\n",
    "        self.model.save_weights(name_weights, overwrite=True)\n",
    "        with open(name_model, \"w\") as outfile:\n",
    "            json.dump(self.model.to_json(), outfile)\n",
    "            \n",
    "    def load(self,name_weights='model.h5',name_model='model.json'):\n",
    "        with open(name_model, \"r\") as jfile:\n",
    "            model = model_from_json(json.load(jfile))\n",
    "        model.load_weights(name_weights)\n",
    "        model.compile(\"sgd\", \"mse\")\n",
    "        self.model = model\n",
    "\n",
    "            \n",
    "class DQN_FC(DQN):\n",
    "    def __init__(self, *args, lr=0.01,**kwargs):\n",
    "        super(DQN_FC, self).__init__( *args,**kwargs)\n",
    "        \n",
    "        # NN Model\n",
    "        model = Sequential()\n",
    "        model.add(Dense(68, input_shape=(5, 5, nstate), activation='relu'))\n",
    "        model.add(Dense(68,activation='relu'))\n",
    "        model.add(Flatten())\n",
    "        model.add(Dense(4, activation='linear')) #action_size = 4 (0,1,2,3)\n",
    "        model.compile(sgd(lr=lr, decay=1e-5, momentum=0.5), \"mse\") #clip here\n",
    "        self.model = model\n",
    "    \n",
    "    "
   ]
  },
  {
   "cell_type": "code",
   "execution_count": 12,
   "metadata": {},
   "outputs": [
    {
     "name": "stdout",
     "output_type": "stream",
     "text": [
      "Epoch 000/020 | Loss 0.0042 | Win/lose count 2.0/2.0 (0.0)\n",
      "Epoch 001/020 | Loss 0.0047 | Win/lose count 4.0/0 (4.0)\n",
      "Epoch 002/020 | Loss 0.0011 | Win/lose count 2.5/5.0 (-2.5)\n",
      "Epoch 003/020 | Loss 0.0606 | Win/lose count 3.0/3.0 (0.0)\n",
      "Epoch 004/020 | Loss 0.0104 | Win/lose count 3.5/4.0 (-0.5)\n",
      "Epoch 005/020 | Loss 0.0120 | Win/lose count 1.5/4.0 (-2.5)\n",
      "Epoch 006/020 | Loss 0.0143 | Win/lose count 1.0/4.0 (-3.0)\n",
      "Epoch 007/020 | Loss 0.0026 | Win/lose count 3.0/3.0 (0.0)\n",
      "Epoch 008/020 | Loss 0.0011 | Win/lose count 3.5/3.0 (0.5)\n",
      "Epoch 009/020 | Loss 0.0019 | Win/lose count 2.0/1.0 (1.0)\n",
      "Epoch 010/020 | Loss 0.0008 | Win/lose count 3.5/2.0 (1.5)\n",
      "Epoch 011/020 | Loss 0.0009 | Win/lose count 5.0/2.0 (3.0)\n",
      "Epoch 012/020 | Loss 0.0007 | Win/lose count 2.0/4.0 (-2.0)\n",
      "Epoch 013/020 | Loss 0.0010 | Win/lose count 3.5/1.0 (2.5)\n",
      "Epoch 014/020 | Loss 0.0010 | Win/lose count 3.5/3.0 (0.5)\n",
      "Epoch 015/020 | Loss 0.0554 | Win/lose count 2.5/4.0 (-1.5)\n",
      "Epoch 016/020 | Loss 0.0057 | Win/lose count 4.0/2.0 (2.0)\n",
      "Epoch 017/020 | Loss 0.0070 | Win/lose count 2.5/1.0 (1.5)\n",
      "Epoch 018/020 | Loss 0.0039 | Win/lose count 3.0/2.0 (1.0)\n",
      "Epoch 019/020 | Loss 0.0078 | Win/lose count 5.5/0 (5.5)\n"
     ]
    },
    {
     "data": {
      "text/html": [
       "<video alt=\"test\" controls>\n",
       "                <source src=\"data:video/mp4;base64,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\" type=\"video/mp4\" />\n",
       "             </video>"
      ],
      "text/plain": [
       "<IPython.core.display.HTML object>"
      ]
     },
     "execution_count": 12,
     "metadata": {},
     "output_type": "execute_result"
    }
   ],
   "source": [
    "#parameters\n",
    "batch_s = 32\n",
    "nstate = 2\n",
    "epochs_train = 20\n",
    "\n",
    "env = Environment(grid_size=size, max_time=T, temperature=0.3)\n",
    "agent = DQN_FC(size, lr=0.03, epsilon = 0.1, memory_size=2000, batch_size = batch_s)\n",
    "train(agent, env, epochs_train, prefix='fc_train')\n",
    "HTML(display_videos('fc_train10.mp4'))"
   ]
  },
  {
   "cell_type": "markdown",
   "metadata": {},
   "source": [
    "***\n",
    "***\n",
    "__Question 8__ Implement the DQN training algorithm using a CNN (for example, 2 convolutional layers and one final fully connected layer)."
   ]
  },
  {
   "cell_type": "code",
   "execution_count": 13,
   "metadata": {},
   "outputs": [],
   "source": [
    "class DQN_CNN(DQN):\n",
    "    def __init__(self, *args,lr=0.1,**kwargs):\n",
    "        super(DQN_CNN, self).__init__(*args,**kwargs)\n",
    "        \n",
    "        ###### FILL IN\n",
    "        model = Sequential()\n",
    "        model.add(Conv2D(64, (3, 3), activation = \"relu\", input_shape = (5, 5, nstate)))\n",
    "        #print(model.output_shape)\n",
    "        #print(model.output_shape)\n",
    "        model.add(Conv2D(64, kernel_size = (3, 3), activation = \"relu\"))\n",
    "\n",
    "        model.add(Flatten())\n",
    "        model.add(Dense(64, activation='relu'))\n",
    "        model.add(Dense(4, activation='linear'))\n",
    "        \n",
    "        model.compile(sgd(lr=lr, decay=1e-4, momentum=0.2), \"mse\")\n",
    "        self.model = model"
   ]
  },
  {
   "cell_type": "code",
   "execution_count": 14,
   "metadata": {},
   "outputs": [
    {
     "name": "stdout",
     "output_type": "stream",
     "text": [
      "Epoch 000/020 | Loss 0.0038 | Win/lose count 5.5/5.0 (0.5)\n",
      "Epoch 001/020 | Loss 0.0686 | Win/lose count 4.0/2.0 (2.0)\n",
      "Epoch 002/020 | Loss 0.0002 | Win/lose count 3.5/2.0 (1.5)\n",
      "Epoch 003/020 | Loss 0.0010 | Win/lose count 9.5/4.0 (5.5)\n",
      "Epoch 004/020 | Loss 0.0641 | Win/lose count 2.5/4.0 (-1.5)\n",
      "Epoch 005/020 | Loss 0.0034 | Win/lose count 2.0/1.0 (1.0)\n",
      "Epoch 006/020 | Loss 0.0465 | Win/lose count 3.0/6.0 (-3.0)\n",
      "Epoch 007/020 | Loss 0.0020 | Win/lose count 4.0/4.0 (0.0)\n",
      "Epoch 008/020 | Loss 0.0015 | Win/lose count 4.5/1.0 (3.5)\n",
      "Epoch 009/020 | Loss 0.0054 | Win/lose count 3.5/2.0 (1.5)\n",
      "Epoch 010/020 | Loss 0.0011 | Win/lose count 3.0/2.0 (1.0)\n",
      "Epoch 011/020 | Loss 0.0008 | Win/lose count 3.0/2.0 (1.0)\n",
      "Epoch 012/020 | Loss 0.0012 | Win/lose count 3.0/5.0 (-2.0)\n",
      "Epoch 013/020 | Loss 0.0008 | Win/lose count 3.0/3.0 (0.0)\n",
      "Epoch 014/020 | Loss 0.0008 | Win/lose count 7.5/2.0 (5.5)\n",
      "Epoch 015/020 | Loss 0.0006 | Win/lose count 3.0/2.0 (1.0)\n",
      "Epoch 016/020 | Loss 0.0590 | Win/lose count 5.0/0 (5.0)\n",
      "Epoch 017/020 | Loss 0.0018 | Win/lose count 4.5/2.0 (2.5)\n",
      "Epoch 018/020 | Loss 0.0009 | Win/lose count 3.5/1.0 (2.5)\n",
      "Epoch 019/020 | Loss 0.0003 | Win/lose count 2.0/2.0 (0.0)\n"
     ]
    },
    {
     "data": {
      "text/html": [
       "<video alt=\"test\" controls>\n",
       "                <source src=\"data:video/mp4;base64,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\" type=\"video/mp4\" />\n",
       "             </video>"
      ],
      "text/plain": [
       "<IPython.core.display.HTML object>"
      ]
     },
     "execution_count": 14,
     "metadata": {},
     "output_type": "execute_result"
    }
   ],
   "source": [
    "epochs_train = 20\n",
    "nstate = 2\n",
    "\n",
    "env = Environment(grid_size=size, max_time=T, temperature=0.3)\n",
    "agent = DQN_CNN(size, lr=.5, epsilon = 0.1, memory_size=2000, batch_size = 32)\n",
    "train(agent,env,epochs_train,prefix='cnn_train')\n",
    "HTML(display_videos('cnn_train10.mp4'))"
   ]
  },
  {
   "cell_type": "markdown",
   "metadata": {},
   "source": [
    "***\n",
    "***\n",
    "__Question 9__ Test both algorithms and compare their performances. Which issue(s) do you observe? Observe also different behaviors by changing the temperature."
   ]
  },
  {
   "cell_type": "code",
   "execution_count": 15,
   "metadata": {},
   "outputs": [
    {
     "name": "stdout",
     "output_type": "stream",
     "text": [
      "Test of the CNN\n",
      "Win/lose count 1.5/3.0. Average score (-1.5)\n",
      "Win/lose count 1.5/0. Average score (0.0)\n",
      "Win/lose count 1.5/0. Average score (0.5)\n",
      "Win/lose count 0.5/0. Average score (0.5)\n",
      "Win/lose count 3.0/0. Average score (1.0)\n",
      "Win/lose count 0.5/0. Average score (0.9166666666666666)\n",
      "Win/lose count 0/0. Average score (0.7857142857142857)\n",
      "Win/lose count 1.0/0. Average score (0.8125)\n",
      "Win/lose count 4.5/0. Average score (1.2222222222222223)\n",
      "Win/lose count 1.0/0. Average score (1.2)\n",
      "Win/lose count 2.0/0. Average score (1.2727272727272727)\n",
      "Win/lose count 0/0. Average score (1.1666666666666667)\n",
      "Win/lose count 1.5/1.0. Average score (1.1153846153846154)\n",
      "Win/lose count 3.0/1.0. Average score (1.1785714285714286)\n",
      "Win/lose count 4.0/0. Average score (1.3666666666666667)\n",
      "Win/lose count 2.5/0. Average score (1.4375)\n",
      "Win/lose count 0/0. Average score (1.3529411764705883)\n",
      "Win/lose count 0.5/0. Average score (1.3055555555555556)\n",
      "Win/lose count 1.5/0. Average score (1.3157894736842106)\n",
      "Win/lose count 2.0/0. Average score (1.35)\n",
      "Final score: 1.35\n",
      "Test of the FC\n",
      "Win/lose count 0.5/1.0. Average score (-0.5)\n",
      "Win/lose count 0/0. Average score (-0.25)\n",
      "Win/lose count 0.5/0. Average score (0.0)\n",
      "Win/lose count 0/3.0. Average score (-0.75)\n",
      "Win/lose count 1.5/1.0. Average score (-0.5)\n",
      "Win/lose count 1.0/3.0. Average score (-0.75)\n",
      "Win/lose count 1.0/0. Average score (-0.5)\n",
      "Win/lose count 2.0/0. Average score (-0.1875)\n",
      "Win/lose count 0/1.0. Average score (-0.2777777777777778)\n",
      "Win/lose count 0/0. Average score (-0.25)\n",
      "Win/lose count 0/3.0. Average score (-0.5)\n",
      "Win/lose count 1.5/0. Average score (-0.3333333333333333)\n",
      "Win/lose count 0/2.0. Average score (-0.46153846153846156)\n",
      "Win/lose count 0/0. Average score (-0.42857142857142855)\n",
      "Win/lose count 0/1.0. Average score (-0.4666666666666667)\n",
      "Win/lose count 1.5/0. Average score (-0.34375)\n",
      "Win/lose count 0.5/1.0. Average score (-0.35294117647058826)\n",
      "Win/lose count 0/3.0. Average score (-0.5)\n",
      "Win/lose count 0/0. Average score (-0.47368421052631576)\n",
      "Win/lose count 1.5/3.0. Average score (-0.525)\n",
      "Final score: -0.525\n"
     ]
    }
   ],
   "source": [
    "epochs_test = 20\n",
    "\n",
    "env = Environment(grid_size=size, max_time=T,temperature=0.3)\n",
    "agent_cnn = DQN_CNN(size, lr=.1, epsilon = 0.1, memory_size=2000, batch_size = 32)\n",
    "agent_cnn.load(name_weights='cnn_trainmodel.h5',name_model='cnn_trainmodel.json')\n",
    "\n",
    "agent_fc = DQN_FC(size, lr=.1, epsilon = 0.1, memory_size=2000, batch_size = 32)\n",
    "agent_cnn.load(name_weights='fc_trainmodel.h5',name_model='fc_trainmodel.json')\n",
    "print('Test of the CNN')\n",
    "test(agent_cnn,env,epochs_test,prefix='cnn_test')\n",
    "print('Test of the FC')\n",
    "test(agent_fc,env,epochs_test,prefix='fc_test')"
   ]
  },
  {
   "cell_type": "code",
   "execution_count": 14,
   "metadata": {},
   "outputs": [
    {
     "data": {
      "text/html": [
       "<video alt=\"test\" controls>\n",
       "                <source src=\"data:video/mp4;base64,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\" type=\"video/mp4\" />\n",
       "             </video>"
      ],
      "text/plain": [
       "<IPython.core.display.HTML object>"
      ]
     },
     "execution_count": 14,
     "metadata": {},
     "output_type": "execute_result"
    }
   ],
   "source": [
    "HTML(display_videos('cnn_test19.mp4'))"
   ]
  },
  {
   "cell_type": "code",
   "execution_count": 15,
   "metadata": {},
   "outputs": [
    {
     "data": {
      "text/html": [
       "<video alt=\"test\" controls>\n",
       "                <source src=\"data:video/mp4;base64,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\" type=\"video/mp4\" />\n",
       "             </video>"
      ],
      "text/plain": [
       "<IPython.core.display.HTML object>"
      ]
     },
     "execution_count": 15,
     "metadata": {},
     "output_type": "execute_result"
    }
   ],
   "source": [
    "HTML(display_videos('fc_test19.mp4'))"
   ]
  },
  {
   "cell_type": "markdown",
   "metadata": {},
   "source": [
    "We notice that the CNN network has better performances than the FC one in terms of average and final scores. By looking at the video, I notice that the rat doesn't explore the environment enough and stay in the same area, which can explain the bad scores.\n",
    "\n",
    "The temperature corresponds to the number of malus and bonus present in the rat's environment. According to the formula, the higer the temperature, the higher the probability to have bonus. Thus, the scores rise when the temperature rises."
   ]
  },
  {
   "cell_type": "markdown",
   "metadata": {},
   "source": [
    "***\n",
    "\n",
    "The algorithm tends to not explore the map which can be an issue. We propose two ideas in order to encourage exploration:\n",
    "1. Incorporating a decreasing $\\epsilon$-greedy exploration. You can use the method ```set_epsilon```\n",
    "2. Append via the environment a new state that describes if a cell has been visited or not\n",
    "\n",
    "***\n",
    "__Question 10__ Design a new ```train_explore``` function and environment class ```EnvironmentExploring``` to tackle the issue of exploration.\n",
    "\n"
   ]
  },
  {
   "cell_type": "code",
   "execution_count": 16,
   "metadata": {},
   "outputs": [
    {
     "data": {
      "text/plain": [
       "'## use those samples of code:\\n#In train explore:\\nstate, reward, game_over = env.act(action, train=True)\\n\\n## In Environment exploring:\\n# You will have to change n_state to 3 because you will use one more layer!\\nreward = 0\\nif train:\\n    reward = -self.malus_position[self.x, self.y]\\nself.malus_position[self.x, self.y] = 0.1\\n\\nreward = reward + self.board[self.x, self.y]\\n# 3 \"feature\" states instead of 2\\nstate = np.concatenate((self.malus_position.reshape(self.grid_size, self.grid_size,1),\\n                                self.board.reshape(self.grid_size, self.grid_size,1),\\n                        self.position.reshape(self.grid_size, self.grid_size,1)),axis=2)'"
      ]
     },
     "execution_count": 16,
     "metadata": {},
     "output_type": "execute_result"
    }
   ],
   "source": [
    "def train_explore(agent,env,epoch,prefix=''):\n",
    "    # Number of won games\n",
    "    score = 0\n",
    "    loss = 0\n",
    "\n",
    "    for e in range(epoch):\n",
    "        # At each epoch, we restart to a fresh game and get the initial state\n",
    "        state = env.reset()\n",
    "        # This assumes that the games will terminate\n",
    "        game_over = False\n",
    "\n",
    "        win = 0\n",
    "        lose = 0\n",
    "\n",
    "        while not game_over:\n",
    "            # The agent performs an action\n",
    "            action = agent.act(state, decreasing  = True)\n",
    "\n",
    "            # Apply an action to the environment, get the next state, the reward\n",
    "            # and if the games end\n",
    "            prev_state = state\n",
    "            state, reward, game_over = env.act(action)\n",
    "\n",
    "            # Update the counters\n",
    "            if reward > 0:\n",
    "                win = win + reward\n",
    "            if reward < 0:\n",
    "                lose = lose -reward\n",
    "\n",
    "            # Apply the reinforcement strategy\n",
    "            loss = agent.reinforce(prev_state, state,  action, reward, game_over)\n",
    "\n",
    "        # Save as a mp4\n",
    "        if e % 10 == 0:\n",
    "            env.draw(prefix+str(e))\n",
    "\n",
    "        # Update stats\n",
    "        score += win-lose\n",
    "\n",
    "        print(\"Epoch {:03d}/{:03d} | Loss {:.4f} | Win/lose count {}/{} ({})\"\n",
    "              .format(e, epoch, loss, win, lose, win-lose))\n",
    "        agent.save(name_weights=prefix+'model.h5',name_model=prefix+'model.json')\n",
    "\n",
    "class EnvironmentExploring(object):\n",
    "    def __init__(self, grid_size=10, max_time=500, temperature=0.1):\n",
    "        grid_size = grid_size+4\n",
    "        self.grid_size = grid_size\n",
    "        self.max_time = max_time\n",
    "        self.temperature = temperature\n",
    "\n",
    "        #board on which one plays\n",
    "        self.board = np.zeros((grid_size,grid_size))\n",
    "        self.position = np.zeros((grid_size,grid_size))\n",
    "        self.malus_position = np.zeros((grid_size,grid_size))\n",
    "\n",
    "        # coordinate of the rat\n",
    "        self.x = 0\n",
    "        self.y = 1\n",
    "\n",
    "        # self time\n",
    "        self.t = 0\n",
    "\n",
    "        self.scale=16\n",
    "\n",
    "        self.to_draw = np.zeros((max_time+2, grid_size*self.scale, grid_size*self.scale, 3))\n",
    "\n",
    "\n",
    "    def draw(self,e):\n",
    "        skvideo.io.vwrite(str(e) + '.mp4', self.to_draw)\n",
    "\n",
    "    def get_frame(self,t):\n",
    "        b = np.zeros((self.grid_size,self.grid_size,3))+128\n",
    "        b[self.board>0,0] = 256\n",
    "        b[self.board < 0, 2] = 256\n",
    "        b[self.x,self.y,:]=256\n",
    "        b[-2:,:,:]=0\n",
    "        b[:,-2:,:]=0\n",
    "        b[:2,:,:]=0\n",
    "        b[:,:2,:]=0\n",
    "        \n",
    "        b =  cv2.resize(b, None, fx=self.scale, fy=self.scale, interpolation=cv2.INTER_NEAREST)\n",
    "\n",
    "        self.to_draw[t,:,:,:]=b\n",
    "\n",
    "\n",
    "    def act(self, action, train = False):\n",
    "        \"\"\"This function returns the new state, reward and decides if the\n",
    "        game ends.\"\"\"\n",
    "        \n",
    "        self.get_frame(int(self.t))\n",
    "\n",
    "        self.position = np.zeros((self.grid_size, self.grid_size))\n",
    "\n",
    "        self.position[0:2,:]= -1\n",
    "        self.position[:,0:2] = -1\n",
    "        self.position[-2:, :] = -1\n",
    "        #self.position[-2:, :] = -1\n",
    "        self.position[:, -2:] = -1\n",
    "\n",
    "        self.position[self.x, self.y] = 1\n",
    "        if action == 0:\n",
    "            if self.x == self.grid_size-3:\n",
    "                self.x = self.x-1\n",
    "            else:\n",
    "                self.x = self.x + 1\n",
    "        elif action == 1:\n",
    "            if self.x == 2:\n",
    "                self.x = self.x+1\n",
    "            else:\n",
    "                self.x = self.x-1\n",
    "        elif action == 2:\n",
    "            if self.y == self.grid_size - 3:\n",
    "                self.y = self.y - 1\n",
    "            else:\n",
    "                self.y = self.y + 1\n",
    "        elif action == 3:\n",
    "            if self.y == 2:\n",
    "                self.y = self.y + 1\n",
    "            else:\n",
    "                self.y = self.y - 1\n",
    "        else:\n",
    "            RuntimeError('Error: action not recognized')\n",
    "            \n",
    "        reward = 0\n",
    "        if train:\n",
    "            reward = -self.malus_position[self.x, self.y]  #cell visited\n",
    "        self.malus_position[self.x, self.y] = 0.1\n",
    "\n",
    "        self.t = self.t + 1\n",
    "        reward = self.board[self.x, self.y]\n",
    "        self.board[self.x, self.y] = 0\n",
    "        game_over = self.t > self.max_time\n",
    "        state = np.concatenate((self.malus_position.reshape(self.grid_size, self.grid_size,1),\n",
    "                                self.board.reshape(self.grid_size, self.grid_size,1),\n",
    "                        self.position.reshape(self.grid_size, self.grid_size,1)),axis=2)\n",
    "        state = state[self.x-2:self.x+3,self.y-2:self.y+3,:]\n",
    "\n",
    "        return state, reward, game_over\n",
    "\n",
    "    def reset(self):\n",
    "        \"\"\"This function resets the game and returns the initial state\"\"\"\n",
    "\n",
    "        self.x = np.random.randint(3, self.grid_size-3, size=1)[0]\n",
    "        self.y = np.random.randint(3, self.grid_size-3, size=1)[0]\n",
    "\n",
    "\n",
    "        bonus = 0.5*np.random.binomial(1,self.temperature,size=self.grid_size**2)\n",
    "        bonus = bonus.reshape(self.grid_size,self.grid_size)\n",
    "\n",
    "        malus = -1.0*np.random.binomial(1,self.temperature,size=self.grid_size**2)\n",
    "        malus = malus.reshape(self.grid_size, self.grid_size)\n",
    "\n",
    "        self.to_draw = np.zeros((self.max_time+2, self.grid_size*self.scale, self.grid_size*self.scale, 3))\n",
    "\n",
    "\n",
    "        malus[bonus>0]=0\n",
    "\n",
    "        self.board = bonus + malus\n",
    "\n",
    "        self.position = np.zeros((self.grid_size, self.grid_size))\n",
    "        self.position[0:2,:]= -1\n",
    "        self.position[:,0:2] = -1\n",
    "        self.position[-2:, :] = -1\n",
    "        #self.position[-2:, :] = -1\n",
    "        self.position[:, -2:] = -1\n",
    "        self.board[self.x,self.y] = 0\n",
    "        self.t = 0\n",
    "\n",
    "        state = np.concatenate((self.malus_position.reshape(self.grid_size, self.grid_size,1),\n",
    "                                self.board.reshape(self.grid_size, self.grid_size,1),\n",
    "                        self.position.reshape(self.grid_size, self.grid_size,1)),axis=2)\n",
    "\n",
    "        state = state[self.x - 2:self.x + 3, self.y - 2:self.y + 3, :]\n",
    "        return state\n",
    "    \n",
    "\"\"\"## use those samples of code:\n",
    "#In train explore:\n",
    "state, reward, game_over = env.act(action, train=True)\n",
    "\n",
    "## In Environment exploring:\n",
    "# You will have to change n_state to 3 because you will use one more layer!\n",
    "reward = 0\n",
    "if train:\n",
    "    reward = -self.malus_position[self.x, self.y]\n",
    "self.malus_position[self.x, self.y] = 0.1\n",
    "\n",
    "reward = reward + self.board[self.x, self.y]\n",
    "# 3 \"feature\" states instead of 2\n",
    "state = np.concatenate((self.malus_position.reshape(self.grid_size, self.grid_size,1),\n",
    "                                self.board.reshape(self.grid_size, self.grid_size,1),\n",
    "                        self.position.reshape(self.grid_size, self.grid_size,1)),axis=2)\"\"\""
   ]
  },
  {
   "cell_type": "code",
   "execution_count": 17,
   "metadata": {},
   "outputs": [
    {
     "name": "stdout",
     "output_type": "stream",
     "text": [
      "Epoch 000/020 | Loss 0.0118 | Win/lose count 3.5/6.0 (-2.5)\n",
      "Epoch 001/020 | Loss 0.0064 | Win/lose count 2.0/3.0 (-1.0)\n",
      "Epoch 002/020 | Loss 0.0042 | Win/lose count 1.0/3.0 (-2.0)\n",
      "Epoch 003/020 | Loss 0.0026 | Win/lose count 1.5/3.0 (-1.5)\n",
      "Epoch 004/020 | Loss 0.0070 | Win/lose count 1.0/1.0 (0.0)\n",
      "Epoch 005/020 | Loss 0.0016 | Win/lose count 4.0/2.0 (2.0)\n",
      "Epoch 006/020 | Loss 0.0039 | Win/lose count 1.5/1.0 (0.5)\n",
      "Epoch 007/020 | Loss 0.0036 | Win/lose count 4.0/0 (4.0)\n",
      "Epoch 008/020 | Loss 0.0414 | Win/lose count 3.5/1.0 (2.5)\n",
      "Epoch 009/020 | Loss 0.0017 | Win/lose count 3.5/0 (3.5)\n",
      "Epoch 010/020 | Loss 0.0049 | Win/lose count 3.5/2.0 (1.5)\n",
      "Epoch 011/020 | Loss 0.0012 | Win/lose count 2.5/1.0 (1.5)\n",
      "Epoch 012/020 | Loss 0.0011 | Win/lose count 4.5/2.0 (2.5)\n",
      "Epoch 013/020 | Loss 0.0013 | Win/lose count 4.5/1.0 (3.5)\n",
      "Epoch 014/020 | Loss 0.0020 | Win/lose count 0/1.0 (-1.0)\n",
      "Epoch 015/020 | Loss 0.0013 | Win/lose count 1.0/0 (1.0)\n",
      "Epoch 016/020 | Loss 0.0006 | Win/lose count 6.5/1.0 (5.5)\n",
      "Epoch 017/020 | Loss 0.0003 | Win/lose count 2.5/1.0 (1.5)\n",
      "Epoch 018/020 | Loss 0.0006 | Win/lose count 4.5/0 (4.5)\n",
      "Epoch 019/020 | Loss 0.0007 | Win/lose count 4.5/2.0 (2.5)\n"
     ]
    },
    {
     "data": {
      "text/html": [
       "<video alt=\"test\" controls>\n",
       "                <source src=\"data:video/mp4;base64,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\" type=\"video/mp4\" />\n",
       "             </video>"
      ],
      "text/plain": [
       "<IPython.core.display.HTML object>"
      ]
     },
     "execution_count": 17,
     "metadata": {},
     "output_type": "execute_result"
    }
   ],
   "source": [
    "# Training\n",
    "nstate = 3\n",
    "epochs_train = 20\n",
    "\n",
    "env = EnvironmentExploring(grid_size=size, max_time=T, temperature=0.3)\n",
    "agent = DQN_CNN(size, lr=.5, epsilon = 0.5, memory_size=2000, batch_size = 32,n_state=3)\n",
    "train_explore(agent, env, epochs_train, prefix='cnn_train_explore')\n",
    "HTML(display_videos('cnn_train_explore10.mp4'))"
   ]
  },
  {
   "cell_type": "code",
   "execution_count": 19,
   "metadata": {},
   "outputs": [
    {
     "name": "stdout",
     "output_type": "stream",
     "text": [
      "Win/lose count 0.5/0. Average score (0.5)\n",
      "Win/lose count 2.5/0. Average score (1.5)\n",
      "Win/lose count 6.0/0. Average score (3.0)\n",
      "Win/lose count 1.0/0. Average score (2.5)\n",
      "Win/lose count 3.0/1.0. Average score (2.4)\n",
      "Win/lose count 1.0/0. Average score (2.1666666666666665)\n",
      "Win/lose count 3.5/0. Average score (2.357142857142857)\n",
      "Win/lose count 0.5/0. Average score (2.125)\n",
      "Win/lose count 5.0/0. Average score (2.4444444444444446)\n",
      "Win/lose count 2.5/0. Average score (2.45)\n",
      "Win/lose count 5.5/1.0. Average score (2.6363636363636362)\n",
      "Win/lose count 3.5/0. Average score (2.7083333333333335)\n",
      "Win/lose count 0.5/0. Average score (2.5384615384615383)\n",
      "Win/lose count 2.0/0. Average score (2.5)\n",
      "Win/lose count 3.5/0. Average score (2.566666666666667)\n",
      "Win/lose count 2.5/2.0. Average score (2.4375)\n",
      "Win/lose count 1.0/0. Average score (2.3529411764705883)\n",
      "Win/lose count 0.5/1.0. Average score (2.1944444444444446)\n",
      "Win/lose count 3.0/0. Average score (2.236842105263158)\n",
      "Win/lose count 0.5/0. Average score (2.15)\n",
      "Final score: 2.15\n"
     ]
    },
    {
     "data": {
      "text/html": [
       "<video alt=\"test\" controls>\n",
       "                <source src=\"data:video/mp4;base64,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\" type=\"video/mp4\" />\n",
       "             </video>"
      ],
      "text/plain": [
       "<IPython.core.display.HTML object>"
      ]
     },
     "execution_count": 19,
     "metadata": {},
     "output_type": "execute_result"
    }
   ],
   "source": [
    "# Evaluation\n",
    "epochs_test = 20\n",
    "\n",
    "test(agent,env,epochs_test,prefix='cnn_test_explore',train = True)\n",
    "HTML(display_videos('cnn_test_explore10.mp4'))"
   ]
  },
  {
   "cell_type": "markdown",
   "metadata": {},
   "source": [
    "The final score is a bit higher for the CNN with a decreasing epsilon."
   ]
  },
  {
   "cell_type": "markdown",
   "metadata": {},
   "source": [
    "***\n",
    "***\n",
    "__BONUS question__ Use the expert DQN from the previous question to generate some winning games. Train a model that mimicks its behavior. Compare the performances."
   ]
  },
  {
   "cell_type": "markdown",
   "metadata": {},
   "source": []
  },
  {
   "cell_type": "markdown",
   "metadata": {},
   "source": [
    "***"
   ]
  }
 ],
 "metadata": {
  "kernelspec": {
   "display_name": "Python (3.5)",
   "language": "python",
   "name": "py35"
  },
  "language_info": {
   "codemirror_mode": {
    "name": "ipython",
    "version": 3
   },
   "file_extension": ".py",
   "mimetype": "text/x-python",
   "name": "python",
   "nbconvert_exporter": "python",
   "pygments_lexer": "ipython3",
   "version": "3.5.6"
  }
 },
 "nbformat": 4,
 "nbformat_minor": 2
}
